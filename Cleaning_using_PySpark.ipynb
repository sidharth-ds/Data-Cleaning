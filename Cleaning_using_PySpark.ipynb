{
  "nbformat": 4,
  "nbformat_minor": 0,
  "metadata": {
    "colab": {
      "name": "Cleaning_using_PySpark.ipynb",
      "provenance": [],
      "collapsed_sections": [],
      "authorship_tag": "ABX9TyOl7TCoGufBVh2cArv6NvcB",
      "include_colab_link": true
    },
    "kernelspec": {
      "name": "python3",
      "display_name": "Python 3"
    },
    "language_info": {
      "name": "python"
    }
  },
  "cells": [
    {
      "cell_type": "markdown",
      "metadata": {
        "id": "view-in-github",
        "colab_type": "text"
      },
      "source": [
        "<a href=\"https://colab.research.google.com/github/sidharth-ds/Data-Cleaning/blob/main/Cleaning_using_PySpark.ipynb\" target=\"_parent\"><img src=\"https://colab.research.google.com/assets/colab-badge.svg\" alt=\"Open In Colab\"/></a>"
      ]
    },
    {
      "cell_type": "code",
      "execution_count": null,
      "metadata": {
        "colab": {
          "base_uri": "https://localhost:8080/"
        },
        "id": "c3ij0QdEUNiB",
        "outputId": "30a76c48-8a9b-4e82-e7f3-5603a4aa2487"
      },
      "outputs": [
        {
          "output_type": "stream",
          "name": "stdout",
          "text": [
            "Collecting pyspark\n",
            "  Downloading pyspark-3.2.1.tar.gz (281.4 MB)\n",
            "\u001b[K     |████████████████████████████████| 281.4 MB 30 kB/s \n",
            "\u001b[?25hCollecting py4j==0.10.9.3\n",
            "  Downloading py4j-0.10.9.3-py2.py3-none-any.whl (198 kB)\n",
            "\u001b[K     |████████████████████████████████| 198 kB 56.3 MB/s \n",
            "\u001b[?25hBuilding wheels for collected packages: pyspark\n",
            "  Building wheel for pyspark (setup.py) ... \u001b[?25l\u001b[?25hdone\n",
            "  Created wheel for pyspark: filename=pyspark-3.2.1-py2.py3-none-any.whl size=281853642 sha256=b4060a5754af5931ab335e325f15d5a7e93ab6486fd573990b404c2cacebf395\n",
            "  Stored in directory: /root/.cache/pip/wheels/9f/f5/07/7cd8017084dce4e93e84e92efd1e1d5334db05f2e83bcef74f\n",
            "Successfully built pyspark\n",
            "Installing collected packages: py4j, pyspark\n",
            "Successfully installed py4j-0.10.9.3 pyspark-3.2.1\n"
          ]
        }
      ],
      "source": [
        "!pip install pyspark"
      ]
    },
    {
      "cell_type": "code",
      "source": [
        "import pyspark"
      ],
      "metadata": {
        "id": "2MbBKoc1USLN"
      },
      "execution_count": null,
      "outputs": []
    },
    {
      "cell_type": "markdown",
      "source": [
        "pyspark program:\n",
        "* Driver:\n",
        "  - creating session\n",
        "* Dag: directed acyclic graph\n",
        "  - purpose: to split the task into pieces\n",
        "  - scheduling the tasks\n",
        "* Yarn:\n",
        "  - run the tasks"
      ],
      "metadata": {
        "id": "LlcaImJKUaps"
      }
    },
    {
      "cell_type": "code",
      "source": [
        "dir(pyspark)"
      ],
      "metadata": {
        "id": "zn8OTRkSUSOG"
      },
      "execution_count": null,
      "outputs": []
    },
    {
      "cell_type": "markdown",
      "source": [
        "To use pyspark:\n",
        "* import session package\n",
        "* create session"
      ],
      "metadata": {
        "id": "qg5ri4dLUgN0"
      }
    },
    {
      "cell_type": "code",
      "source": [
        "from pyspark.sql import SparkSession"
      ],
      "metadata": {
        "id": "1hdftmW6USQp"
      },
      "execution_count": null,
      "outputs": []
    },
    {
      "cell_type": "code",
      "source": [
        "spark = SparkSession.builder.appName('sample').getOrCreate()"
      ],
      "metadata": {
        "id": "5hbmcFS4USTH"
      },
      "execution_count": null,
      "outputs": []
    },
    {
      "cell_type": "markdown",
      "source": [
        "## creating Dataframe using pyspark:"
      ],
      "metadata": {
        "id": "FH2io22-Un9X"
      }
    },
    {
      "cell_type": "code",
      "source": [
        "data1 = [(\"Arun\",\"kumar\",\"s\",56,\"m\",45000),(\"Magesh\",\"\",\"sasi\",48,\"m\",12000),(\"bala\",\"s\",\"\",89,\"m\",5000)]"
      ],
      "metadata": {
        "id": "Eh-Yi6hJUSVo"
      },
      "execution_count": null,
      "outputs": []
    },
    {
      "cell_type": "code",
      "source": [
        "from pyspark.sql.types import StructField, StructType, StringType, IntegerType"
      ],
      "metadata": {
        "id": "SPk9go8CUSZA"
      },
      "execution_count": null,
      "outputs": []
    },
    {
      "cell_type": "markdown",
      "source": [
        "* StructType = table format\n",
        "* StructField = columns"
      ],
      "metadata": {
        "id": "ktCAgvMEUud0"
      }
    },
    {
      "cell_type": "markdown",
      "source": [
        "* schema = how table stucture should be?"
      ],
      "metadata": {
        "id": "_6L70XR3UywY"
      }
    },
    {
      "cell_type": "code",
      "source": [
        "schema1 = StructType([\n",
        "                     StructField('firstname',StringType(),True),\n",
        "                     StructField('middlename',StringType(),True),\n",
        "                     StructField('lastname',StringType(),True),\n",
        "                     StructField('id',IntegerType(),True),\n",
        "                     StructField('gender',StringType(),True),\n",
        "                     StructField('salary',StringType(),True),\n",
        "])"
      ],
      "metadata": {
        "id": "M1y6FqqNUr_6"
      },
      "execution_count": null,
      "outputs": []
    },
    {
      "cell_type": "markdown",
      "source": [
        "* dx is  dataframe"
      ],
      "metadata": {
        "id": "2N1ATu8gU3jh"
      }
    },
    {
      "cell_type": "code",
      "source": [
        "dx = spark.createDataFrame(data=data1,schema=schema1)"
      ],
      "metadata": {
        "id": "_NgIovd2UsCV"
      },
      "execution_count": null,
      "outputs": []
    },
    {
      "cell_type": "code",
      "source": [
        "dx.show()"
      ],
      "metadata": {
        "colab": {
          "base_uri": "https://localhost:8080/"
        },
        "id": "Ly0EAS7PUsE0",
        "outputId": "52f38993-9024-4add-d89c-b8f74d613e4b"
      },
      "execution_count": null,
      "outputs": [
        {
          "output_type": "stream",
          "name": "stdout",
          "text": [
            "+---------+----------+--------+---+------+------+\n",
            "|firstname|middlename|lastname| id|gender|salary|\n",
            "+---------+----------+--------+---+------+------+\n",
            "|     Arun|     kumar|       s| 56|     m| 45000|\n",
            "|   Magesh|          |    sasi| 48|     m| 12000|\n",
            "|     bala|         s|        | 89|     m|  5000|\n",
            "+---------+----------+--------+---+------+------+\n",
            "\n"
          ]
        }
      ]
    },
    {
      "cell_type": "code",
      "source": [
        "dx.printSchema()"
      ],
      "metadata": {
        "colab": {
          "base_uri": "https://localhost:8080/"
        },
        "id": "c86VbsPIUsIY",
        "outputId": "0819f561-fa61-4736-a002-fa62fe001fb3"
      },
      "execution_count": null,
      "outputs": [
        {
          "output_type": "stream",
          "name": "stdout",
          "text": [
            "root\n",
            " |-- firstname: string (nullable = true)\n",
            " |-- middlename: string (nullable = true)\n",
            " |-- lastname: string (nullable = true)\n",
            " |-- id: integer (nullable = true)\n",
            " |-- gender: string (nullable = true)\n",
            " |-- salary: string (nullable = true)\n",
            "\n"
          ]
        }
      ]
    },
    {
      "cell_type": "markdown",
      "source": [
        "* to convert spark dataframe into pandas dataframe:"
      ],
      "metadata": {
        "id": "WhyrkQo6VBmR"
      }
    },
    {
      "cell_type": "code",
      "source": [
        "dx_pd = dx.toPandas()\n",
        "dx_pd"
      ],
      "metadata": {
        "colab": {
          "base_uri": "https://localhost:8080/",
          "height": 143
        },
        "id": "qA6n8M5_UsWL",
        "outputId": "cefdb66a-c122-4745-8371-76929575afb7"
      },
      "execution_count": null,
      "outputs": [
        {
          "output_type": "execute_result",
          "data": {
            "text/html": [
              "\n",
              "  <div id=\"df-d10fa28c-9174-489a-9f48-e16966d3fb0a\">\n",
              "    <div class=\"colab-df-container\">\n",
              "      <div>\n",
              "<style scoped>\n",
              "    .dataframe tbody tr th:only-of-type {\n",
              "        vertical-align: middle;\n",
              "    }\n",
              "\n",
              "    .dataframe tbody tr th {\n",
              "        vertical-align: top;\n",
              "    }\n",
              "\n",
              "    .dataframe thead th {\n",
              "        text-align: right;\n",
              "    }\n",
              "</style>\n",
              "<table border=\"1\" class=\"dataframe\">\n",
              "  <thead>\n",
              "    <tr style=\"text-align: right;\">\n",
              "      <th></th>\n",
              "      <th>firstname</th>\n",
              "      <th>middlename</th>\n",
              "      <th>lastname</th>\n",
              "      <th>id</th>\n",
              "      <th>gender</th>\n",
              "      <th>salary</th>\n",
              "    </tr>\n",
              "  </thead>\n",
              "  <tbody>\n",
              "    <tr>\n",
              "      <th>0</th>\n",
              "      <td>Arun</td>\n",
              "      <td>kumar</td>\n",
              "      <td>s</td>\n",
              "      <td>56</td>\n",
              "      <td>m</td>\n",
              "      <td>45000</td>\n",
              "    </tr>\n",
              "    <tr>\n",
              "      <th>1</th>\n",
              "      <td>Magesh</td>\n",
              "      <td></td>\n",
              "      <td>sasi</td>\n",
              "      <td>48</td>\n",
              "      <td>m</td>\n",
              "      <td>12000</td>\n",
              "    </tr>\n",
              "    <tr>\n",
              "      <th>2</th>\n",
              "      <td>bala</td>\n",
              "      <td>s</td>\n",
              "      <td></td>\n",
              "      <td>89</td>\n",
              "      <td>m</td>\n",
              "      <td>5000</td>\n",
              "    </tr>\n",
              "  </tbody>\n",
              "</table>\n",
              "</div>\n",
              "      <button class=\"colab-df-convert\" onclick=\"convertToInteractive('df-d10fa28c-9174-489a-9f48-e16966d3fb0a')\"\n",
              "              title=\"Convert this dataframe to an interactive table.\"\n",
              "              style=\"display:none;\">\n",
              "        \n",
              "  <svg xmlns=\"http://www.w3.org/2000/svg\" height=\"24px\"viewBox=\"0 0 24 24\"\n",
              "       width=\"24px\">\n",
              "    <path d=\"M0 0h24v24H0V0z\" fill=\"none\"/>\n",
              "    <path d=\"M18.56 5.44l.94 2.06.94-2.06 2.06-.94-2.06-.94-.94-2.06-.94 2.06-2.06.94zm-11 1L8.5 8.5l.94-2.06 2.06-.94-2.06-.94L8.5 2.5l-.94 2.06-2.06.94zm10 10l.94 2.06.94-2.06 2.06-.94-2.06-.94-.94-2.06-.94 2.06-2.06.94z\"/><path d=\"M17.41 7.96l-1.37-1.37c-.4-.4-.92-.59-1.43-.59-.52 0-1.04.2-1.43.59L10.3 9.45l-7.72 7.72c-.78.78-.78 2.05 0 2.83L4 21.41c.39.39.9.59 1.41.59.51 0 1.02-.2 1.41-.59l7.78-7.78 2.81-2.81c.8-.78.8-2.07 0-2.86zM5.41 20L4 18.59l7.72-7.72 1.47 1.35L5.41 20z\"/>\n",
              "  </svg>\n",
              "      </button>\n",
              "      \n",
              "  <style>\n",
              "    .colab-df-container {\n",
              "      display:flex;\n",
              "      flex-wrap:wrap;\n",
              "      gap: 12px;\n",
              "    }\n",
              "\n",
              "    .colab-df-convert {\n",
              "      background-color: #E8F0FE;\n",
              "      border: none;\n",
              "      border-radius: 50%;\n",
              "      cursor: pointer;\n",
              "      display: none;\n",
              "      fill: #1967D2;\n",
              "      height: 32px;\n",
              "      padding: 0 0 0 0;\n",
              "      width: 32px;\n",
              "    }\n",
              "\n",
              "    .colab-df-convert:hover {\n",
              "      background-color: #E2EBFA;\n",
              "      box-shadow: 0px 1px 2px rgba(60, 64, 67, 0.3), 0px 1px 3px 1px rgba(60, 64, 67, 0.15);\n",
              "      fill: #174EA6;\n",
              "    }\n",
              "\n",
              "    [theme=dark] .colab-df-convert {\n",
              "      background-color: #3B4455;\n",
              "      fill: #D2E3FC;\n",
              "    }\n",
              "\n",
              "    [theme=dark] .colab-df-convert:hover {\n",
              "      background-color: #434B5C;\n",
              "      box-shadow: 0px 1px 3px 1px rgba(0, 0, 0, 0.15);\n",
              "      filter: drop-shadow(0px 1px 2px rgba(0, 0, 0, 0.3));\n",
              "      fill: #FFFFFF;\n",
              "    }\n",
              "  </style>\n",
              "\n",
              "      <script>\n",
              "        const buttonEl =\n",
              "          document.querySelector('#df-d10fa28c-9174-489a-9f48-e16966d3fb0a button.colab-df-convert');\n",
              "        buttonEl.style.display =\n",
              "          google.colab.kernel.accessAllowed ? 'block' : 'none';\n",
              "\n",
              "        async function convertToInteractive(key) {\n",
              "          const element = document.querySelector('#df-d10fa28c-9174-489a-9f48-e16966d3fb0a');\n",
              "          const dataTable =\n",
              "            await google.colab.kernel.invokeFunction('convertToInteractive',\n",
              "                                                     [key], {});\n",
              "          if (!dataTable) return;\n",
              "\n",
              "          const docLinkHtml = 'Like what you see? Visit the ' +\n",
              "            '<a target=\"_blank\" href=https://colab.research.google.com/notebooks/data_table.ipynb>data table notebook</a>'\n",
              "            + ' to learn more about interactive tables.';\n",
              "          element.innerHTML = '';\n",
              "          dataTable['output_type'] = 'display_data';\n",
              "          await google.colab.output.renderOutput(dataTable, element);\n",
              "          const docLink = document.createElement('div');\n",
              "          docLink.innerHTML = docLinkHtml;\n",
              "          element.appendChild(docLink);\n",
              "        }\n",
              "      </script>\n",
              "    </div>\n",
              "  </div>\n",
              "  "
            ],
            "text/plain": [
              "  firstname middlename lastname  id gender salary\n",
              "0      Arun      kumar        s  56      m  45000\n",
              "1    Magesh                sasi  48      m  12000\n",
              "2      bala          s           89      m   5000"
            ]
          },
          "metadata": {},
          "execution_count": 12
        }
      ]
    },
    {
      "cell_type": "markdown",
      "source": [
        "* automatically connects datatype (not preferable)"
      ],
      "metadata": {
        "id": "cTooNYoIVGIz"
      }
    },
    {
      "cell_type": "code",
      "source": [
        "col = [\"fname\",\"mname\",\"lname\",\"id\",\"gender\",\"salary\"]"
      ],
      "metadata": {
        "id": "F-_5NLDMVEJ7"
      },
      "execution_count": null,
      "outputs": []
    },
    {
      "cell_type": "code",
      "source": [
        "dy = spark.createDataFrame(data=data1,schema=col)\n",
        "dy.printSchema()\n",
        "dy.show()"
      ],
      "metadata": {
        "colab": {
          "base_uri": "https://localhost:8080/"
        },
        "id": "zVlAaSc3VEMd",
        "outputId": "452742f2-36c5-4ace-b775-065b8c060797"
      },
      "execution_count": null,
      "outputs": [
        {
          "output_type": "stream",
          "name": "stdout",
          "text": [
            "root\n",
            " |-- fname: string (nullable = true)\n",
            " |-- mname: string (nullable = true)\n",
            " |-- lname: string (nullable = true)\n",
            " |-- id: long (nullable = true)\n",
            " |-- gender: string (nullable = true)\n",
            " |-- salary: long (nullable = true)\n",
            "\n",
            "+------+-----+-----+---+------+------+\n",
            "| fname|mname|lname| id|gender|salary|\n",
            "+------+-----+-----+---+------+------+\n",
            "|  Arun|kumar|    s| 56|     m| 45000|\n",
            "|Magesh|     | sasi| 48|     m| 12000|\n",
            "|  bala|    s|     | 89|     m|  5000|\n",
            "+------+-----+-----+---+------+------+\n",
            "\n"
          ]
        }
      ]
    },
    {
      "cell_type": "markdown",
      "source": [
        "## creating a csv file:"
      ],
      "metadata": {
        "id": "KZ0ndSsyVMKL"
      }
    },
    {
      "cell_type": "code",
      "source": [
        "df=spark.read.format(\"csv\").load(\"/content/SAMPLE.csv\")\n",
        "df.printSchema()\n",
        "df.show()"
      ],
      "metadata": {
        "colab": {
          "base_uri": "https://localhost:8080/"
        },
        "id": "w8rjgiuNVEQB",
        "outputId": "f2872c5c-2d19-4538-fdf6-ce06df948b0c"
      },
      "execution_count": null,
      "outputs": [
        {
          "output_type": "stream",
          "name": "stdout",
          "text": [
            "root\n",
            " |-- _c0: string (nullable = true)\n",
            " |-- _c1: string (nullable = true)\n",
            " |-- _c2: string (nullable = true)\n",
            " |-- _c3: string (nullable = true)\n",
            " |-- _c4: string (nullable = true)\n",
            " |-- _c5: string (nullable = true)\n",
            " |-- _c6: string (nullable = true)\n",
            "\n",
            "+-----+----+-------------------+-----+----+-------+-----+\n",
            "|  _c0| _c1|                _c2|  _c3| _c4|    _c5|  _c6|\n",
            "+-----+----+-------------------+-----+----+-------+-----+\n",
            "|sl No|name|            college|  hsc|SSLC|arrears|cmark|\n",
            "|    1|  A1|               IITM| 89.9|92.6|      0|   95|\n",
            "|    2|  A2|    ANNA UNIVERSITY| 76.8|77.9|   null|   89|\n",
            "|    3|  A3|    ANNA UNIVERSITY|88.39|85.6|      6|   99|\n",
            "|    4|  A4|ANAMALAI UNIVERSITY| 92.5|94.6|      1|   76|\n",
            "|    5|  A5|               null| 79.3|  65|      2|   89|\n",
            "|    6|  A6|                SRM| null|88.1|      0| 89.6|\n",
            "|    7|  A7|           SAVEETHA| 91.8|null|      7| 78.3|\n",
            "|    8|  A8|               null| 99.8|65.8|      6| 77.5|\n",
            "| null|null|               null| null|null|   null| null|\n",
            "|    9|  A9|ANAMALAI UNIVERSITY| 98.7|  91|      2|   76|\n",
            "|   10|  AD|             fogjof|   56|   9|     78|    2|\n",
            "|   11| A10|               IITM|   94|77.6|      1|   75|\n",
            "|   12| A11|               IITK| 88.2|75.9|      2|   72|\n",
            "|   13| A12|               null| 78.9|84.9|      3|   83|\n",
            "|   14| A13|                SRM| 86.9|  97|      4|   92|\n",
            "+-----+----+-------------------+-----+----+-------+-----+\n",
            "\n"
          ]
        }
      ]
    },
    {
      "cell_type": "markdown",
      "source": [
        "* to pull out Header:"
      ],
      "metadata": {
        "id": "tewftszQs3i8"
      }
    },
    {
      "cell_type": "code",
      "source": [
        "df1 = spark.read.option(\"header\",True).csv(\"/content/SAMPLE.csv\")\n",
        "df1.printSchema()\n",
        "df1.show()"
      ],
      "metadata": {
        "colab": {
          "base_uri": "https://localhost:8080/"
        },
        "id": "zltb8U-zUsdF",
        "outputId": "b326cf76-90a8-427a-e17b-a1b5016b5d45"
      },
      "execution_count": null,
      "outputs": [
        {
          "output_type": "stream",
          "name": "stdout",
          "text": [
            "root\n",
            " |-- sl No: string (nullable = true)\n",
            " |-- name: string (nullable = true)\n",
            " |-- college: string (nullable = true)\n",
            " |-- hsc: string (nullable = true)\n",
            " |-- SSLC: string (nullable = true)\n",
            " |-- arrears: string (nullable = true)\n",
            " |-- cmark: string (nullable = true)\n",
            "\n",
            "+-----+----+-------------------+-----+----+-------+-----+\n",
            "|sl No|name|            college|  hsc|SSLC|arrears|cmark|\n",
            "+-----+----+-------------------+-----+----+-------+-----+\n",
            "|    1|  A1|               IITM| 89.9|92.6|      0|   95|\n",
            "|    2|  A2|    ANNA UNIVERSITY| 76.8|77.9|   null|   89|\n",
            "|    3|  A3|    ANNA UNIVERSITY|88.39|85.6|      6|   99|\n",
            "|    4|  A4|ANAMALAI UNIVERSITY| 92.5|94.6|      1|   76|\n",
            "|    5|  A5|               null| 79.3|  65|      2|   89|\n",
            "|    6|  A6|                SRM| null|88.1|      0| 89.6|\n",
            "|    7|  A7|           SAVEETHA| 91.8|null|      7| 78.3|\n",
            "|    8|  A8|               null| 99.8|65.8|      6| 77.5|\n",
            "| null|null|               null| null|null|   null| null|\n",
            "|    9|  A9|ANAMALAI UNIVERSITY| 98.7|  91|      2|   76|\n",
            "|   10|  AD|             fogjof|   56|   9|     78|    2|\n",
            "|   11| A10|               IITM|   94|77.6|      1|   75|\n",
            "|   12| A11|               IITK| 88.2|75.9|      2|   72|\n",
            "|   13| A12|               null| 78.9|84.9|      3|   83|\n",
            "|   14| A13|                SRM| 86.9|  97|      4|   92|\n",
            "+-----+----+-------------------+-----+----+-------+-----+\n",
            "\n"
          ]
        }
      ]
    },
    {
      "cell_type": "markdown",
      "source": [
        "* writing the file:"
      ],
      "metadata": {
        "id": "5zhOnEJ1c6mN"
      }
    },
    {
      "cell_type": "code",
      "source": [
        "df1.write.option(\"header\",True).csv(\"/content/sasa\")"
      ],
      "metadata": {
        "id": "E3t_n6adVR89"
      },
      "execution_count": null,
      "outputs": []
    },
    {
      "cell_type": "markdown",
      "source": [
        "## Duplicates:"
      ],
      "metadata": {
        "id": "vOIl7brcoNhd"
      }
    },
    {
      "cell_type": "code",
      "source": [
        "data2 = [(\"arun\",\"Mech\",45000),(\"maheshsiwueyyyyyyeeeebfffffffnnn\",\"Aero\",12000),(\"bala\",\"Cse\",5000),(\"mano\",\"Mech\",5000),(\"abishek\",\"Aero\",5000),(\"rohan\",\"ece\",5000),(\"rohan\",\"ece\",5000)]\n",
        "col=[\"name\",\"dept\",\"salary\"]\n",
        "df2= spark.createDataFrame(data= data2,schema=col)\n",
        "df2.printSchema()\n",
        "df2.show()"
      ],
      "metadata": {
        "id": "6ZABWKxiZEq9",
        "colab": {
          "base_uri": "https://localhost:8080/"
        },
        "outputId": "f4cdd636-c2b6-4302-aa0f-1379283f4d5f"
      },
      "execution_count": null,
      "outputs": [
        {
          "output_type": "stream",
          "name": "stdout",
          "text": [
            "root\n",
            " |-- name: string (nullable = true)\n",
            " |-- dept: string (nullable = true)\n",
            " |-- salary: long (nullable = true)\n",
            "\n",
            "+--------------------+----+------+\n",
            "|                name|dept|salary|\n",
            "+--------------------+----+------+\n",
            "|                arun|Mech| 45000|\n",
            "|maheshsiwueyyyyyy...|Aero| 12000|\n",
            "|                bala| Cse|  5000|\n",
            "|                mano|Mech|  5000|\n",
            "|             abishek|Aero|  5000|\n",
            "|               rohan| ece|  5000|\n",
            "|               rohan| ece|  5000|\n",
            "+--------------------+----+------+\n",
            "\n"
          ]
        }
      ]
    },
    {
      "cell_type": "markdown",
      "source": [
        "to show the entire name:\n",
        "* truncate( )"
      ],
      "metadata": {
        "id": "VJ15KHVaewWN"
      }
    },
    {
      "cell_type": "code",
      "source": [
        "df2.show(truncate=False)"
      ],
      "metadata": {
        "colab": {
          "base_uri": "https://localhost:8080/"
        },
        "id": "1PRG4a56oDzr",
        "outputId": "6624423c-0d81-4c3d-bd78-fade0c0549d4"
      },
      "execution_count": null,
      "outputs": [
        {
          "output_type": "stream",
          "name": "stdout",
          "text": [
            "+--------------------------------+----+------+\n",
            "|name                            |dept|salary|\n",
            "+--------------------------------+----+------+\n",
            "|arun                            |Mech|45000 |\n",
            "|maheshsiwueyyyyyyeeeebfffffffnnn|Aero|12000 |\n",
            "|bala                            |Cse |5000  |\n",
            "|mano                            |Mech|5000  |\n",
            "|abishek                         |Aero|5000  |\n",
            "|rohan                           |ece |5000  |\n",
            "|rohan                           |ece |5000  |\n",
            "+--------------------------------+----+------+\n",
            "\n"
          ]
        }
      ]
    },
    {
      "cell_type": "markdown",
      "source": [
        "* to remove duplicate rows: (shows only unique rows)"
      ],
      "metadata": {
        "id": "yx8BaWyrek0s"
      }
    },
    {
      "cell_type": "code",
      "source": [
        "df2_px = df2.distinct()\n",
        "df2_px.show()"
      ],
      "metadata": {
        "id": "qewwtId_ZEtR",
        "colab": {
          "base_uri": "https://localhost:8080/"
        },
        "outputId": "7cec32fa-ba14-44b8-ff05-17e7b7566b31"
      },
      "execution_count": null,
      "outputs": [
        {
          "output_type": "stream",
          "name": "stdout",
          "text": [
            "+--------------------+----+------+\n",
            "|                name|dept|salary|\n",
            "+--------------------+----+------+\n",
            "|                bala| Cse|  5000|\n",
            "|maheshsiwueyyyyyy...|Aero| 12000|\n",
            "|                arun|Mech| 45000|\n",
            "|                mano|Mech|  5000|\n",
            "|             abishek|Aero|  5000|\n",
            "|               rohan| ece|  5000|\n",
            "+--------------------+----+------+\n",
            "\n"
          ]
        }
      ]
    },
    {
      "cell_type": "markdown",
      "source": [
        "* another method to remove duplicates:"
      ],
      "metadata": {
        "id": "qIAeWbhvfPBZ"
      }
    },
    {
      "cell_type": "code",
      "source": [
        "df2_x = df2.dropDuplicates()\n",
        "df2_x.show()"
      ],
      "metadata": {
        "id": "X8VQQk4_ZEwx",
        "colab": {
          "base_uri": "https://localhost:8080/"
        },
        "outputId": "23dd393a-cda7-41c1-9c1e-8044b21af2fc"
      },
      "execution_count": null,
      "outputs": [
        {
          "output_type": "stream",
          "name": "stdout",
          "text": [
            "+--------------------+----+------+\n",
            "|                name|dept|salary|\n",
            "+--------------------+----+------+\n",
            "|                bala| Cse|  5000|\n",
            "|maheshsiwueyyyyyy...|Aero| 12000|\n",
            "|                arun|Mech| 45000|\n",
            "|                mano|Mech|  5000|\n",
            "|             abishek|Aero|  5000|\n",
            "|               rohan| ece|  5000|\n",
            "+--------------------+----+------+\n",
            "\n"
          ]
        }
      ]
    },
    {
      "cell_type": "code",
      "source": [
        "data3 = [(\"arun\",\"Mech\",45000),(\"mahesh\",\"Aero\",12000),(\"bala\",\"Cse\",5000),(\"mano\",\"Mech\",5000),(\"abishek\",\"Aero\",5000),(\"rohan\",\"ece\",5000),(\"rohan\",\"ece\",5000)]\n",
        "col=[\"name\",\"dept\",\"salary\"]\n",
        "df3= spark.createDataFrame(data= data3,schema=col)\n",
        "df3.printSchema()\n",
        "df3.show()"
      ],
      "metadata": {
        "colab": {
          "base_uri": "https://localhost:8080/"
        },
        "id": "5cdEWWrXcTxK",
        "outputId": "e52daa34-a3d5-435e-dca8-d0a5ca7e78af"
      },
      "execution_count": null,
      "outputs": [
        {
          "output_type": "stream",
          "name": "stdout",
          "text": [
            "root\n",
            " |-- name: string (nullable = true)\n",
            " |-- dept: string (nullable = true)\n",
            " |-- salary: long (nullable = true)\n",
            "\n",
            "+-------+----+------+\n",
            "|   name|dept|salary|\n",
            "+-------+----+------+\n",
            "|   arun|Mech| 45000|\n",
            "| mahesh|Aero| 12000|\n",
            "|   bala| Cse|  5000|\n",
            "|   mano|Mech|  5000|\n",
            "|abishek|Aero|  5000|\n",
            "|  rohan| ece|  5000|\n",
            "|  rohan| ece|  5000|\n",
            "+-------+----+------+\n",
            "\n"
          ]
        }
      ]
    },
    {
      "cell_type": "markdown",
      "source": [
        "* unique value for department only:"
      ],
      "metadata": {
        "id": "SrByu-FGfnKa"
      }
    },
    {
      "cell_type": "code",
      "source": [
        "df3_a = df3.dropDuplicates(['dept'])\n",
        "df3_a.show()"
      ],
      "metadata": {
        "colab": {
          "base_uri": "https://localhost:8080/"
        },
        "id": "S9hchlJIfTnj",
        "outputId": "65382d9a-cc99-4a1a-89ba-260ccabe9fc6"
      },
      "execution_count": null,
      "outputs": [
        {
          "output_type": "stream",
          "name": "stdout",
          "text": [
            "+------+----+------+\n",
            "|  name|dept|salary|\n",
            "+------+----+------+\n",
            "|mahesh|Aero| 12000|\n",
            "|  bala| Cse|  5000|\n",
            "|  arun|Mech| 45000|\n",
            "| rohan| ece|  5000|\n",
            "+------+----+------+\n",
            "\n"
          ]
        }
      ]
    },
    {
      "cell_type": "markdown",
      "source": [
        "* if duplicate in both the columns, then only dropped.\n",
        "* similar to 'AND' operation\n",
        "* also sorted based on 1st column"
      ],
      "metadata": {
        "id": "LL-cwXBKgaha"
      }
    },
    {
      "cell_type": "code",
      "source": [
        "df3_b = df3.dropDuplicates(['dept','salary'])\n",
        "df3_b.show()"
      ],
      "metadata": {
        "colab": {
          "base_uri": "https://localhost:8080/"
        },
        "id": "JW7rj6yafTp5",
        "outputId": "83bb9b2d-4f62-4eb3-d6a9-98c8edb94c1a"
      },
      "execution_count": null,
      "outputs": [
        {
          "output_type": "stream",
          "name": "stdout",
          "text": [
            "+-------+----+------+\n",
            "|   name|dept|salary|\n",
            "+-------+----+------+\n",
            "|abishek|Aero|  5000|\n",
            "| mahesh|Aero| 12000|\n",
            "|   bala| Cse|  5000|\n",
            "|   mano|Mech|  5000|\n",
            "|   arun|Mech| 45000|\n",
            "|  rohan| ece|  5000|\n",
            "+-------+----+------+\n",
            "\n"
          ]
        }
      ]
    },
    {
      "cell_type": "code",
      "source": [
        "df3_c = df3.dropDuplicates(['salary','dept'])\n",
        "df3_c.show()"
      ],
      "metadata": {
        "colab": {
          "base_uri": "https://localhost:8080/"
        },
        "id": "6lIGKYCrfTsX",
        "outputId": "94cdb1e0-a44e-4eb2-8b52-189b7418ff7c"
      },
      "execution_count": null,
      "outputs": [
        {
          "output_type": "stream",
          "name": "stdout",
          "text": [
            "+-------+----+------+\n",
            "|   name|dept|salary|\n",
            "+-------+----+------+\n",
            "|abishek|Aero|  5000|\n",
            "|   bala| Cse|  5000|\n",
            "|   mano|Mech|  5000|\n",
            "|  rohan| ece|  5000|\n",
            "| mahesh|Aero| 12000|\n",
            "|   arun|Mech| 45000|\n",
            "+-------+----+------+\n",
            "\n"
          ]
        }
      ]
    },
    {
      "cell_type": "code",
      "source": [
        "df3.show()"
      ],
      "metadata": {
        "colab": {
          "base_uri": "https://localhost:8080/"
        },
        "id": "nasQLzH7d50G",
        "outputId": "dadb48aa-2d3f-4b46-e78c-7b9f0f1971b9"
      },
      "execution_count": null,
      "outputs": [
        {
          "output_type": "stream",
          "name": "stdout",
          "text": [
            "+-------+----+------+\n",
            "|   name|dept|salary|\n",
            "+-------+----+------+\n",
            "|   arun|Mech| 45000|\n",
            "| mahesh|Aero| 12000|\n",
            "|   bala| Cse|  5000|\n",
            "|   mano|Mech|  5000|\n",
            "|abishek|Aero|  5000|\n",
            "|  rohan| ece|  5000|\n",
            "|  rohan| ece|  5000|\n",
            "+-------+----+------+\n",
            "\n"
          ]
        }
      ]
    },
    {
      "cell_type": "markdown",
      "source": [
        "## Filter( )"
      ],
      "metadata": {
        "id": "9EowVgJ_hr5f"
      }
    },
    {
      "cell_type": "markdown",
      "source": [
        "== , != , > , <  , ..."
      ],
      "metadata": {
        "id": "5wuiJAAnkqER"
      }
    },
    {
      "cell_type": "code",
      "source": [
        "df3.filter(df3.dept == 'Mech').show()"
      ],
      "metadata": {
        "colab": {
          "base_uri": "https://localhost:8080/"
        },
        "id": "q6A6Y2vAfTv6",
        "outputId": "1786647c-465e-49b5-d434-366d4cf1e769"
      },
      "execution_count": null,
      "outputs": [
        {
          "output_type": "stream",
          "name": "stdout",
          "text": [
            "+----+----+------+\n",
            "|name|dept|salary|\n",
            "+----+----+------+\n",
            "|arun|Mech| 45000|\n",
            "|mano|Mech|  5000|\n",
            "+----+----+------+\n",
            "\n"
          ]
        }
      ]
    },
    {
      "cell_type": "code",
      "source": [
        "df3.filter(df3.dept != 'Mech').show()"
      ],
      "metadata": {
        "colab": {
          "base_uri": "https://localhost:8080/"
        },
        "id": "jQ0WE6zChuwJ",
        "outputId": "0396f4cb-1dee-425d-98ef-f85ef37be180"
      },
      "execution_count": null,
      "outputs": [
        {
          "output_type": "stream",
          "name": "stdout",
          "text": [
            "+-------+----+------+\n",
            "|   name|dept|salary|\n",
            "+-------+----+------+\n",
            "| mahesh|Aero| 12000|\n",
            "|   bala| Cse|  5000|\n",
            "|abishek|Aero|  5000|\n",
            "|  rohan| ece|  5000|\n",
            "|  rohan| ece|  5000|\n",
            "+-------+----+------+\n",
            "\n"
          ]
        }
      ]
    },
    {
      "cell_type": "markdown",
      "source": [
        "* 'NOT' operator :(another form)"
      ],
      "metadata": {
        "id": "MdG-fWQ0iCxh"
      }
    },
    {
      "cell_type": "code",
      "source": [
        "df3.filter(~(df3.dept == 'Mech')).show()"
      ],
      "metadata": {
        "colab": {
          "base_uri": "https://localhost:8080/"
        },
        "id": "PuCwKUeLhuya",
        "outputId": "6b7a09d8-665f-4819-a134-3fe920d447c0"
      },
      "execution_count": null,
      "outputs": [
        {
          "output_type": "stream",
          "name": "stdout",
          "text": [
            "+-------+----+------+\n",
            "|   name|dept|salary|\n",
            "+-------+----+------+\n",
            "| mahesh|Aero| 12000|\n",
            "|   bala| Cse|  5000|\n",
            "|abishek|Aero|  5000|\n",
            "|  rohan| ece|  5000|\n",
            "|  rohan| ece|  5000|\n",
            "+-------+----+------+\n",
            "\n"
          ]
        }
      ]
    },
    {
      "cell_type": "code",
      "source": [
        "df3.filter(df3.salary > 5000).show()"
      ],
      "metadata": {
        "colab": {
          "base_uri": "https://localhost:8080/"
        },
        "id": "mmDnlN5thu11",
        "outputId": "c3bf5ce7-c557-4839-a2b1-67d79c3994b1"
      },
      "execution_count": null,
      "outputs": [
        {
          "output_type": "stream",
          "name": "stdout",
          "text": [
            "+------+----+------+\n",
            "|  name|dept|salary|\n",
            "+------+----+------+\n",
            "|  arun|Mech| 45000|\n",
            "|mahesh|Aero| 12000|\n",
            "+------+----+------+\n",
            "\n"
          ]
        }
      ]
    },
    {
      "cell_type": "markdown",
      "source": [
        "* AND operator:"
      ],
      "metadata": {
        "id": "B0bWKcDcj3MP"
      }
    },
    {
      "cell_type": "code",
      "source": [
        "df3.filter((df3.salary > 5000) & (df3.dept == 'Aero')).show()"
      ],
      "metadata": {
        "colab": {
          "base_uri": "https://localhost:8080/"
        },
        "id": "ZAKkCQQmi8VH",
        "outputId": "654813a6-ca53-4569-874d-7d7c0f579659"
      },
      "execution_count": null,
      "outputs": [
        {
          "output_type": "stream",
          "name": "stdout",
          "text": [
            "+------+----+------+\n",
            "|  name|dept|salary|\n",
            "+------+----+------+\n",
            "|mahesh|Aero| 12000|\n",
            "+------+----+------+\n",
            "\n"
          ]
        }
      ]
    },
    {
      "cell_type": "markdown",
      "source": [
        "* OR operator:"
      ],
      "metadata": {
        "id": "Yu5Kdl3EjyyB"
      }
    },
    {
      "cell_type": "code",
      "source": [
        "df3.filter((df3.salary > 5000) | (df3.dept == 'Aero')).show()"
      ],
      "metadata": {
        "colab": {
          "base_uri": "https://localhost:8080/"
        },
        "id": "GYOB9J3Ti8Xt",
        "outputId": "e97c4f2d-79e1-4e21-ca20-a4acc1f3b8c7"
      },
      "execution_count": null,
      "outputs": [
        {
          "output_type": "stream",
          "name": "stdout",
          "text": [
            "+-------+----+------+\n",
            "|   name|dept|salary|\n",
            "+-------+----+------+\n",
            "|   arun|Mech| 45000|\n",
            "| mahesh|Aero| 12000|\n",
            "|abishek|Aero|  5000|\n",
            "+-------+----+------+\n",
            "\n"
          ]
        }
      ]
    },
    {
      "cell_type": "markdown",
      "source": [
        "* isin( ):"
      ],
      "metadata": {
        "id": "6AD-O6QSkdGI"
      }
    },
    {
      "cell_type": "code",
      "source": [
        "x_dept = ['Aero','Mech','Cse'] \n",
        "df3.filter(df3.dept.isin(x_dept)).show()"
      ],
      "metadata": {
        "colab": {
          "base_uri": "https://localhost:8080/"
        },
        "id": "mIjD9YYii8bI",
        "outputId": "0b800286-02c2-4414-99e3-e39f28ff623d"
      },
      "execution_count": null,
      "outputs": [
        {
          "output_type": "stream",
          "name": "stdout",
          "text": [
            "+-------+----+------+\n",
            "|   name|dept|salary|\n",
            "+-------+----+------+\n",
            "|   arun|Mech| 45000|\n",
            "| mahesh|Aero| 12000|\n",
            "|   bala| Cse|  5000|\n",
            "|   mano|Mech|  5000|\n",
            "|abishek|Aero|  5000|\n",
            "+-------+----+------+\n",
            "\n"
          ]
        }
      ]
    },
    {
      "cell_type": "code",
      "source": [
        "x_dept = ['Aero','Mech','Cse','IT'] \n",
        "y_salary = [5000,12000,45000,60000]\n",
        "\n",
        "df3.filter(df3.dept.isin(x_dept) & df3.salary.isin(y_salary)).show()"
      ],
      "metadata": {
        "colab": {
          "base_uri": "https://localhost:8080/"
        },
        "id": "zchMPh7MiGGN",
        "outputId": "dc6c1f59-424b-4778-c912-3e980f7733a5"
      },
      "execution_count": null,
      "outputs": [
        {
          "output_type": "stream",
          "name": "stdout",
          "text": [
            "+-------+----+------+\n",
            "|   name|dept|salary|\n",
            "+-------+----+------+\n",
            "|   arun|Mech| 45000|\n",
            "| mahesh|Aero| 12000|\n",
            "|   bala| Cse|  5000|\n",
            "|   mano|Mech|  5000|\n",
            "|abishek|Aero|  5000|\n",
            "+-------+----+------+\n",
            "\n"
          ]
        }
      ]
    },
    {
      "cell_type": "code",
      "source": [
        "df3.filter(df3.name.startswith('a')).show()"
      ],
      "metadata": {
        "colab": {
          "base_uri": "https://localhost:8080/"
        },
        "id": "mtb8IXXymIEZ",
        "outputId": "7c0784ee-95fb-4880-f2a4-b0cb80773bd6"
      },
      "execution_count": null,
      "outputs": [
        {
          "output_type": "stream",
          "name": "stdout",
          "text": [
            "+-------+----+------+\n",
            "|   name|dept|salary|\n",
            "+-------+----+------+\n",
            "|   arun|Mech| 45000|\n",
            "|abishek|Aero|  5000|\n",
            "+-------+----+------+\n",
            "\n"
          ]
        }
      ]
    },
    {
      "cell_type": "code",
      "source": [
        "df3.filter(df3.name.endswith('n')).show()"
      ],
      "metadata": {
        "colab": {
          "base_uri": "https://localhost:8080/"
        },
        "id": "5IAh2pPQmIH3",
        "outputId": "4297e375-5b9b-4847-a15f-0f1a9b93b5a6"
      },
      "execution_count": null,
      "outputs": [
        {
          "output_type": "stream",
          "name": "stdout",
          "text": [
            "+-----+----+------+\n",
            "| name|dept|salary|\n",
            "+-----+----+------+\n",
            "| arun|Mech| 45000|\n",
            "|rohan| ece|  5000|\n",
            "|rohan| ece|  5000|\n",
            "+-----+----+------+\n",
            "\n"
          ]
        }
      ]
    },
    {
      "cell_type": "code",
      "source": [
        "df3.filter(df3.name.endswith('la')).show()"
      ],
      "metadata": {
        "colab": {
          "base_uri": "https://localhost:8080/"
        },
        "id": "V0Vd_Rp9nNb7",
        "outputId": "43276771-efd8-4196-c764-6364acbb2ddf"
      },
      "execution_count": null,
      "outputs": [
        {
          "output_type": "stream",
          "name": "stdout",
          "text": [
            "+----+----+------+\n",
            "|name|dept|salary|\n",
            "+----+----+------+\n",
            "|bala| Cse|  5000|\n",
            "+----+----+------+\n",
            "\n"
          ]
        }
      ]
    },
    {
      "cell_type": "code",
      "source": [
        "df3.show()"
      ],
      "metadata": {
        "colab": {
          "base_uri": "https://localhost:8080/"
        },
        "id": "f04n15yJnNfK",
        "outputId": "9d783da0-8264-4e8d-815e-be12019f040a"
      },
      "execution_count": null,
      "outputs": [
        {
          "output_type": "stream",
          "name": "stdout",
          "text": [
            "+-------+----+------+\n",
            "|   name|dept|salary|\n",
            "+-------+----+------+\n",
            "|   arun|Mech| 45000|\n",
            "| mahesh|Aero| 12000|\n",
            "|   bala| Cse|  5000|\n",
            "|   mano|Mech|  5000|\n",
            "|abishek|Aero|  5000|\n",
            "|  rohan| ece|  5000|\n",
            "|  rohan| ece|  5000|\n",
            "+-------+----+------+\n",
            "\n"
          ]
        }
      ]
    },
    {
      "cell_type": "code",
      "source": [
        "data4 = [(\"arun\",\"Mech\",45000),(\"maheshjgsh\",\"Aero\",12000),(\"basrkjgla\",\"Cse\",70000),(\"majgno\",\"Mech\",49000),(\"abishek\",\"Aero\",65000),(\"deepak\",\"ece\",35000),(\"rohan\",\"ece\",5000),(\"suresh\",\"ece\",5000),(\"prakash\",\"ece\",5000)]\n",
        "col=[\"name\",\"dept\",\"salary\"]\n",
        "df4= spark.createDataFrame(data= data4,schema=col)\n",
        "df4.printSchema()\n",
        "df4.show(truncate=False)"
      ],
      "metadata": {
        "colab": {
          "base_uri": "https://localhost:8080/"
        },
        "id": "SNcbnYTwoUGm",
        "outputId": "47d13eb0-0fa1-46af-cd32-16218d0d3137"
      },
      "execution_count": null,
      "outputs": [
        {
          "output_type": "stream",
          "name": "stdout",
          "text": [
            "root\n",
            " |-- name: string (nullable = true)\n",
            " |-- dept: string (nullable = true)\n",
            " |-- salary: long (nullable = true)\n",
            "\n",
            "+----------+----+------+\n",
            "|name      |dept|salary|\n",
            "+----------+----+------+\n",
            "|arun      |Mech|45000 |\n",
            "|maheshjgsh|Aero|12000 |\n",
            "|basrkjgla |Cse |70000 |\n",
            "|majgno    |Mech|49000 |\n",
            "|abishek   |Aero|65000 |\n",
            "|deepak    |ece |35000 |\n",
            "|rohan     |ece |5000  |\n",
            "|suresh    |ece |5000  |\n",
            "|prakash   |ece |5000  |\n",
            "+----------+----+------+\n",
            "\n"
          ]
        }
      ]
    },
    {
      "cell_type": "code",
      "source": [
        "df4.filter(df4.name.contains('jg')).show()"
      ],
      "metadata": {
        "colab": {
          "base_uri": "https://localhost:8080/"
        },
        "id": "VGOi8w0DoUJ9",
        "outputId": "6551c79b-117b-46d7-d36b-9fcdcb4f05d2"
      },
      "execution_count": null,
      "outputs": [
        {
          "output_type": "stream",
          "name": "stdout",
          "text": [
            "+----------+----+------+\n",
            "|      name|dept|salary|\n",
            "+----------+----+------+\n",
            "|maheshjgsh|Aero| 12000|\n",
            "| basrkjgla| Cse| 70000|\n",
            "|    majgno|Mech| 49000|\n",
            "+----------+----+------+\n",
            "\n"
          ]
        }
      ]
    },
    {
      "cell_type": "code",
      "source": [
        "df4.filter(df4.name.contains('sh')).show()"
      ],
      "metadata": {
        "colab": {
          "base_uri": "https://localhost:8080/"
        },
        "id": "0KtvRDANjss8",
        "outputId": "dd21bbf4-c0f6-479e-9cbc-6ccc81dc243d"
      },
      "execution_count": null,
      "outputs": [
        {
          "output_type": "stream",
          "name": "stdout",
          "text": [
            "+----------+----+------+\n",
            "|      name|dept|salary|\n",
            "+----------+----+------+\n",
            "|maheshjgsh|Aero| 12000|\n",
            "|   abishek|Aero| 65000|\n",
            "|    suresh| ece|  5000|\n",
            "|   prakash| ece|  5000|\n",
            "+----------+----+------+\n",
            "\n"
          ]
        }
      ]
    },
    {
      "cell_type": "markdown",
      "source": [
        "* like() is same as contains()"
      ],
      "metadata": {
        "id": "cQjYYRwmpdtQ"
      }
    },
    {
      "cell_type": "code",
      "source": [
        "df4.filter(df4.name.like(\"%jg%\")).show()"
      ],
      "metadata": {
        "colab": {
          "base_uri": "https://localhost:8080/"
        },
        "id": "2VgEqgzfpTje",
        "outputId": "b0d256d6-4baf-4e93-9d95-22717ffcd250"
      },
      "execution_count": null,
      "outputs": [
        {
          "output_type": "stream",
          "name": "stdout",
          "text": [
            "+----------+----+------+\n",
            "|      name|dept|salary|\n",
            "+----------+----+------+\n",
            "|maheshjgsh|Aero| 12000|\n",
            "| basrkjgla| Cse| 70000|\n",
            "|    majgno|Mech| 49000|\n",
            "+----------+----+------+\n",
            "\n"
          ]
        }
      ]
    },
    {
      "cell_type": "markdown",
      "source": [
        "* %sh -- all characters before (same as endswith)\n",
        "* sh% -- all characters after  (same as startswith)\n",
        "* %sh% --- all characters before and after\n",
        "* _s -- only one character before\n",
        "* s_ -- only one character after\n"
      ],
      "metadata": {
        "id": "2qWFbiRHrynP"
      }
    },
    {
      "cell_type": "code",
      "source": [
        "df4.filter(df4.name.like(\"%s_jg%\")).show()"
      ],
      "metadata": {
        "colab": {
          "base_uri": "https://localhost:8080/"
        },
        "id": "tP7S1OcspiOU",
        "outputId": "68f46eea-a6ca-4417-942d-230779595be0"
      },
      "execution_count": null,
      "outputs": [
        {
          "output_type": "stream",
          "name": "stdout",
          "text": [
            "+----------+----+------+\n",
            "|      name|dept|salary|\n",
            "+----------+----+------+\n",
            "|maheshjgsh|Aero| 12000|\n",
            "+----------+----+------+\n",
            "\n"
          ]
        }
      ]
    },
    {
      "cell_type": "code",
      "source": [
        "df4.filter(df4.name.like(\"%s__jg%\")).show()"
      ],
      "metadata": {
        "colab": {
          "base_uri": "https://localhost:8080/"
        },
        "id": "pAQnq6MhpiQ5",
        "outputId": "5a14f4b9-6bb1-4297-cec3-66c226c91d79"
      },
      "execution_count": null,
      "outputs": [
        {
          "output_type": "stream",
          "name": "stdout",
          "text": [
            "+---------+----+------+\n",
            "|     name|dept|salary|\n",
            "+---------+----+------+\n",
            "|basrkjgla| Cse| 70000|\n",
            "+---------+----+------+\n",
            "\n"
          ]
        }
      ]
    },
    {
      "cell_type": "code",
      "source": [
        "df4.filter(df4.name.like(\"%s%jg%\")).show()"
      ],
      "metadata": {
        "colab": {
          "base_uri": "https://localhost:8080/"
        },
        "id": "wLacdOsRpiUX",
        "outputId": "d261167b-ee03-4da0-809d-6c2c7c2125bc"
      },
      "execution_count": null,
      "outputs": [
        {
          "output_type": "stream",
          "name": "stdout",
          "text": [
            "+----------+----+------+\n",
            "|      name|dept|salary|\n",
            "+----------+----+------+\n",
            "|maheshjgsh|Aero| 12000|\n",
            "| basrkjgla| Cse| 70000|\n",
            "+----------+----+------+\n",
            "\n"
          ]
        }
      ]
    },
    {
      "cell_type": "markdown",
      "source": [
        "# connecting Tables:"
      ],
      "metadata": {
        "id": "QKvwjyFCwIkr"
      }
    },
    {
      "cell_type": "markdown",
      "source": [
        "Creating 2 tables:\n",
        "* employee table\n",
        "* department table"
      ],
      "metadata": {
        "id": "Lvvh2_VjxwZg"
      }
    },
    {
      "cell_type": "code",
      "source": [
        "data5 = [(10,\"arun\",101,45000),(11,\"mahesh\",102,12000),(12,\"bala\",103,70000),(13,\"mano\",104,49000),(14,\"abishek\",105,65000),(15,\"deepak\",106,35000),(16,\"rohan\",102,5000),(17,\"suresh\",105,5000),(18,\"prakash\",103,5000),(19,\"surender\",106,5000)]\n",
        "col=[\"id\",\"name\",\"dept_id\",\"salary\"]\n",
        "df_emp= spark.createDataFrame(data= data5,schema=col)\n",
        "df_emp.printSchema()\n",
        "df_emp.show()\n",
        "\n",
        "data6 = [(\"hr\",101),(\"rmg\",102),(\"r&d\",103),(\"marketing\",104),(\"accounts\",105),(\"sales\",107)]\n",
        "col3 = [\"dept\",'deptID']\n",
        "df_dept = spark.createDataFrame(data= data6,schema=col3)\n",
        "df_dept.printSchema()\n",
        "df_dept.show()"
      ],
      "metadata": {
        "colab": {
          "base_uri": "https://localhost:8080/"
        },
        "id": "2H5oSmzwtZ0a",
        "outputId": "85b21182-8397-48c6-b258-9bcc9ad360cc"
      },
      "execution_count": null,
      "outputs": [
        {
          "output_type": "stream",
          "name": "stdout",
          "text": [
            "root\n",
            " |-- id: long (nullable = true)\n",
            " |-- name: string (nullable = true)\n",
            " |-- dept_id: long (nullable = true)\n",
            " |-- salary: long (nullable = true)\n",
            "\n",
            "+---+--------+-------+------+\n",
            "| id|    name|dept_id|salary|\n",
            "+---+--------+-------+------+\n",
            "| 10|    arun|    101| 45000|\n",
            "| 11|  mahesh|    102| 12000|\n",
            "| 12|    bala|    103| 70000|\n",
            "| 13|    mano|    104| 49000|\n",
            "| 14| abishek|    105| 65000|\n",
            "| 15|  deepak|    106| 35000|\n",
            "| 16|   rohan|    102|  5000|\n",
            "| 17|  suresh|    105|  5000|\n",
            "| 18| prakash|    103|  5000|\n",
            "| 19|surender|    106|  5000|\n",
            "+---+--------+-------+------+\n",
            "\n",
            "root\n",
            " |-- dept: string (nullable = true)\n",
            " |-- deptID: long (nullable = true)\n",
            "\n",
            "+---------+------+\n",
            "|     dept|deptID|\n",
            "+---------+------+\n",
            "|       hr|   101|\n",
            "|      rmg|   102|\n",
            "|      r&d|   103|\n",
            "|marketing|   104|\n",
            "| accounts|   105|\n",
            "|    sales|   107|\n",
            "+---------+------+\n",
            "\n"
          ]
        }
      ]
    },
    {
      "cell_type": "markdown",
      "source": [
        "Joining the tables:\n",
        "* match the required columns "
      ],
      "metadata": {
        "id": "sOxJBla61HgU"
      }
    },
    {
      "cell_type": "code",
      "source": [
        "df_emp.join(df_dept,  df_emp.dept_id == df_dept.deptID, 'inner').show()"
      ],
      "metadata": {
        "id": "O_YHpJSWtZ3z",
        "colab": {
          "base_uri": "https://localhost:8080/"
        },
        "outputId": "0902cc07-d4a9-4059-bd25-76c4e2c8b760"
      },
      "execution_count": null,
      "outputs": [
        {
          "output_type": "stream",
          "name": "stdout",
          "text": [
            "+---+-------+-------+------+---------+------+\n",
            "| id|   name|dept_id|salary|     dept|deptID|\n",
            "+---+-------+-------+------+---------+------+\n",
            "| 10|   arun|    101| 45000|       hr|   101|\n",
            "| 11| mahesh|    102| 12000|      rmg|   102|\n",
            "| 16|  rohan|    102|  5000|      rmg|   102|\n",
            "| 12|   bala|    103| 70000|      r&d|   103|\n",
            "| 18|prakash|    103|  5000|      r&d|   103|\n",
            "| 13|   mano|    104| 49000|marketing|   104|\n",
            "| 14|abishek|    105| 65000| accounts|   105|\n",
            "| 17| suresh|    105|  5000| accounts|   105|\n",
            "+---+-------+-------+------+---------+------+\n",
            "\n"
          ]
        }
      ]
    },
    {
      "cell_type": "markdown",
      "source": [
        "* interchanging table position:"
      ],
      "metadata": {
        "id": "DfZZ107r2TPr"
      }
    },
    {
      "cell_type": "code",
      "source": [
        "df_dept.join(df_emp,  df_emp.dept_id == df_dept.deptID, 'inner').show()"
      ],
      "metadata": {
        "colab": {
          "base_uri": "https://localhost:8080/"
        },
        "id": "g4Ttph3U2CeZ",
        "outputId": "41a5eed1-2cc8-40b9-9ba7-76ba9f20d971"
      },
      "execution_count": null,
      "outputs": [
        {
          "output_type": "stream",
          "name": "stdout",
          "text": [
            "+---------+------+---+-------+-------+------+\n",
            "|     dept|deptID| id|   name|dept_id|salary|\n",
            "+---------+------+---+-------+-------+------+\n",
            "|       hr|   101| 10|   arun|    101| 45000|\n",
            "|      rmg|   102| 11| mahesh|    102| 12000|\n",
            "|      rmg|   102| 16|  rohan|    102|  5000|\n",
            "|      r&d|   103| 12|   bala|    103| 70000|\n",
            "|      r&d|   103| 18|prakash|    103|  5000|\n",
            "|marketing|   104| 13|   mano|    104| 49000|\n",
            "| accounts|   105| 14|abishek|    105| 65000|\n",
            "| accounts|   105| 17| suresh|    105|  5000|\n",
            "+---------+------+---+-------+-------+------+\n",
            "\n"
          ]
        }
      ]
    },
    {
      "cell_type": "markdown",
      "source": [
        "* inner : similar to AnB\n",
        "* outer : similar to AuB\n",
        "  - instead of outer, we can use full/ fullouter"
      ],
      "metadata": {
        "id": "-qR84iAW2sPz"
      }
    },
    {
      "cell_type": "code",
      "source": [
        "df_emp.join(df_dept,  df_emp.dept_id == df_dept.deptID, 'outer').show()"
      ],
      "metadata": {
        "colab": {
          "base_uri": "https://localhost:8080/"
        },
        "id": "M29i1pf02Cg9",
        "outputId": "831b23e6-5ddd-4c85-cb07-3b221967a3fc"
      },
      "execution_count": null,
      "outputs": [
        {
          "output_type": "stream",
          "name": "stdout",
          "text": [
            "+----+--------+-------+------+---------+------+\n",
            "|  id|    name|dept_id|salary|     dept|deptID|\n",
            "+----+--------+-------+------+---------+------+\n",
            "|  10|    arun|    101| 45000|       hr|   101|\n",
            "|  11|  mahesh|    102| 12000|      rmg|   102|\n",
            "|  16|   rohan|    102|  5000|      rmg|   102|\n",
            "|  12|    bala|    103| 70000|      r&d|   103|\n",
            "|  18| prakash|    103|  5000|      r&d|   103|\n",
            "|  13|    mano|    104| 49000|marketing|   104|\n",
            "|  14| abishek|    105| 65000| accounts|   105|\n",
            "|  17|  suresh|    105|  5000| accounts|   105|\n",
            "|  15|  deepak|    106| 35000|     null|  null|\n",
            "|  19|surender|    106|  5000|     null|  null|\n",
            "|null|    null|   null|  null|    sales|   107|\n",
            "+----+--------+-------+------+---------+------+\n",
            "\n"
          ]
        }
      ]
    },
    {
      "cell_type": "markdown",
      "source": [
        "* left : priority to values of left-side table\n",
        " - we can use leftouter/left/left_outer\n",
        "* right :  priority to values of right-side table\n",
        "  - we can use rightouter/right/right_outer"
      ],
      "metadata": {
        "id": "HTEcTE8r38Le"
      }
    },
    {
      "cell_type": "code",
      "source": [
        "df_emp.join(df_dept,  df_emp.dept_id == df_dept.deptID, 'left').show()"
      ],
      "metadata": {
        "colab": {
          "base_uri": "https://localhost:8080/"
        },
        "id": "Va9lD9ah23X0",
        "outputId": "b53bb05e-299a-4d1e-c191-31409a256621"
      },
      "execution_count": null,
      "outputs": [
        {
          "output_type": "stream",
          "name": "stdout",
          "text": [
            "+---+--------+-------+------+---------+------+\n",
            "| id|    name|dept_id|salary|     dept|deptID|\n",
            "+---+--------+-------+------+---------+------+\n",
            "| 10|    arun|    101| 45000|       hr|   101|\n",
            "| 11|  mahesh|    102| 12000|      rmg|   102|\n",
            "| 16|   rohan|    102|  5000|      rmg|   102|\n",
            "| 12|    bala|    103| 70000|      r&d|   103|\n",
            "| 18| prakash|    103|  5000|      r&d|   103|\n",
            "| 13|    mano|    104| 49000|marketing|   104|\n",
            "| 14| abishek|    105| 65000| accounts|   105|\n",
            "| 17|  suresh|    105|  5000| accounts|   105|\n",
            "| 15|  deepak|    106| 35000|     null|  null|\n",
            "| 19|surender|    106|  5000|     null|  null|\n",
            "+---+--------+-------+------+---------+------+\n",
            "\n"
          ]
        }
      ]
    },
    {
      "cell_type": "code",
      "source": [
        "df_emp.join(df_dept,  df_emp.dept_id == df_dept.deptID, 'right').show()"
      ],
      "metadata": {
        "colab": {
          "base_uri": "https://localhost:8080/"
        },
        "id": "TJNXFApq23aC",
        "outputId": "9d544b67-f697-41ab-a6d6-c8a2e6d1feb4"
      },
      "execution_count": null,
      "outputs": [
        {
          "output_type": "stream",
          "name": "stdout",
          "text": [
            "+----+-------+-------+------+---------+------+\n",
            "|  id|   name|dept_id|salary|     dept|deptID|\n",
            "+----+-------+-------+------+---------+------+\n",
            "|  10|   arun|    101| 45000|       hr|   101|\n",
            "|  11| mahesh|    102| 12000|      rmg|   102|\n",
            "|  16|  rohan|    102|  5000|      rmg|   102|\n",
            "|  12|   bala|    103| 70000|      r&d|   103|\n",
            "|  18|prakash|    103|  5000|      r&d|   103|\n",
            "|  13|   mano|    104| 49000|marketing|   104|\n",
            "|  14|abishek|    105| 65000| accounts|   105|\n",
            "|  17| suresh|    105|  5000| accounts|   105|\n",
            "|null|   null|   null|  null|    sales|   107|\n",
            "+----+-------+-------+------+---------+------+\n",
            "\n"
          ]
        }
      ]
    },
    {
      "cell_type": "markdown",
      "source": [
        "* leftsemi:\n",
        "  - left-side table + inner\n",
        "* leftanti:\n",
        "  - opposite of leftsemi"
      ],
      "metadata": {
        "id": "yv3_Zy2v5Re7"
      }
    },
    {
      "cell_type": "code",
      "source": [
        "df_emp.join(df_dept,  df_emp.dept_id == df_dept.deptID, 'leftsemi').show()"
      ],
      "metadata": {
        "colab": {
          "base_uri": "https://localhost:8080/"
        },
        "id": "1PnaebOz23cp",
        "outputId": "b57f2869-679f-4416-f962-266f55bf0a43"
      },
      "execution_count": null,
      "outputs": [
        {
          "output_type": "stream",
          "name": "stdout",
          "text": [
            "+---+-------+-------+------+\n",
            "| id|   name|dept_id|salary|\n",
            "+---+-------+-------+------+\n",
            "| 10|   arun|    101| 45000|\n",
            "| 11| mahesh|    102| 12000|\n",
            "| 16|  rohan|    102|  5000|\n",
            "| 12|   bala|    103| 70000|\n",
            "| 18|prakash|    103|  5000|\n",
            "| 13|   mano|    104| 49000|\n",
            "| 14|abishek|    105| 65000|\n",
            "| 17| suresh|    105|  5000|\n",
            "+---+-------+-------+------+\n",
            "\n"
          ]
        }
      ]
    },
    {
      "cell_type": "code",
      "source": [
        "df_emp.join(df_dept,  df_emp.dept_id == df_dept.deptID, 'leftanti').show()"
      ],
      "metadata": {
        "colab": {
          "base_uri": "https://localhost:8080/"
        },
        "id": "QCBwdX1v23gP",
        "outputId": "44095b4d-4f6e-42d4-c997-7df497df6c24"
      },
      "execution_count": null,
      "outputs": [
        {
          "output_type": "stream",
          "name": "stdout",
          "text": [
            "+---+--------+-------+------+\n",
            "| id|    name|dept_id|salary|\n",
            "+---+--------+-------+------+\n",
            "| 15|  deepak|    106| 35000|\n",
            "| 19|surender|    106|  5000|\n",
            "+---+--------+-------+------+\n",
            "\n"
          ]
        }
      ]
    },
    {
      "cell_type": "code",
      "source": [
        "data7 = [(10,\"arun\",101,45000),(11,\"mahesh\",102,12000),(12,\"bala\",103,70000),(13,\"mano\",104,49000),(14,\"abishek\",105,65000),(15,\"deepak\",106,35000)]\n",
        "data8 = [(16,\"rohan\",102,5000),(17,\"suresh\",105,5000),(18,\"prakash\",103,5000),(19,\"surender\",106,5000)]\n",
        "col=[\"id\",\"name\",\"dept_id\",\"salary\"]\n",
        "\n",
        "df_emp1= spark.createDataFrame(data= data7,schema=col)\n",
        "df_emp1.printSchema()\n",
        "df_emp1.show()\n",
        "\n",
        "df_emp2= spark.createDataFrame(data= data8,schema=col)\n",
        "df_emp2.printSchema()\n",
        "df_emp2.show()"
      ],
      "metadata": {
        "colab": {
          "base_uri": "https://localhost:8080/"
        },
        "id": "Xpg2-sGi2CkZ",
        "outputId": "bcbb196b-716f-4bd9-ae75-69ba03659a86"
      },
      "execution_count": null,
      "outputs": [
        {
          "output_type": "stream",
          "name": "stdout",
          "text": [
            "root\n",
            " |-- id: long (nullable = true)\n",
            " |-- name: string (nullable = true)\n",
            " |-- dept_id: long (nullable = true)\n",
            " |-- salary: long (nullable = true)\n",
            "\n",
            "+---+-------+-------+------+\n",
            "| id|   name|dept_id|salary|\n",
            "+---+-------+-------+------+\n",
            "| 10|   arun|    101| 45000|\n",
            "| 11| mahesh|    102| 12000|\n",
            "| 12|   bala|    103| 70000|\n",
            "| 13|   mano|    104| 49000|\n",
            "| 14|abishek|    105| 65000|\n",
            "| 15| deepak|    106| 35000|\n",
            "+---+-------+-------+------+\n",
            "\n",
            "root\n",
            " |-- id: long (nullable = true)\n",
            " |-- name: string (nullable = true)\n",
            " |-- dept_id: long (nullable = true)\n",
            " |-- salary: long (nullable = true)\n",
            "\n",
            "+---+--------+-------+------+\n",
            "| id|    name|dept_id|salary|\n",
            "+---+--------+-------+------+\n",
            "| 16|   rohan|    102|  5000|\n",
            "| 17|  suresh|    105|  5000|\n",
            "| 18| prakash|    103|  5000|\n",
            "| 19|surender|    106|  5000|\n",
            "+---+--------+-------+------+\n",
            "\n"
          ]
        }
      ]
    },
    {
      "cell_type": "markdown",
      "source": [
        "* union : to join similar tables (if schema is same)"
      ],
      "metadata": {
        "id": "U0RO6LHz7SK6"
      }
    },
    {
      "cell_type": "code",
      "source": [
        "df_emp_new = df_emp1.union(df_emp2)\n",
        "df_emp_new.show()"
      ],
      "metadata": {
        "colab": {
          "base_uri": "https://localhost:8080/"
        },
        "id": "5hJDKXZ260iS",
        "outputId": "e0082d2a-7e86-4bc4-efcd-76c02d115136"
      },
      "execution_count": null,
      "outputs": [
        {
          "output_type": "stream",
          "name": "stdout",
          "text": [
            "+---+--------+-------+------+\n",
            "| id|    name|dept_id|salary|\n",
            "+---+--------+-------+------+\n",
            "| 10|    arun|    101| 45000|\n",
            "| 11|  mahesh|    102| 12000|\n",
            "| 12|    bala|    103| 70000|\n",
            "| 13|    mano|    104| 49000|\n",
            "| 14| abishek|    105| 65000|\n",
            "| 15|  deepak|    106| 35000|\n",
            "| 16|   rohan|    102|  5000|\n",
            "| 17|  suresh|    105|  5000|\n",
            "| 18| prakash|    103|  5000|\n",
            "| 19|surender|    106|  5000|\n",
            "+---+--------+-------+------+\n",
            "\n"
          ]
        }
      ]
    },
    {
      "cell_type": "markdown",
      "source": [
        "* reverse order:"
      ],
      "metadata": {
        "id": "TW45-zWG77kX"
      }
    },
    {
      "cell_type": "code",
      "source": [
        "df_emp_new = df_emp2.union(df_emp1)\n",
        "df_emp_new.show()"
      ],
      "metadata": {
        "colab": {
          "base_uri": "https://localhost:8080/"
        },
        "id": "eGjaZwqb60kj",
        "outputId": "af9cf6e7-ca1b-4c04-afd1-34bfa73cf858"
      },
      "execution_count": null,
      "outputs": [
        {
          "output_type": "stream",
          "name": "stdout",
          "text": [
            "+---+--------+-------+------+\n",
            "| id|    name|dept_id|salary|\n",
            "+---+--------+-------+------+\n",
            "| 16|   rohan|    102|  5000|\n",
            "| 17|  suresh|    105|  5000|\n",
            "| 18| prakash|    103|  5000|\n",
            "| 19|surender|    106|  5000|\n",
            "| 10|    arun|    101| 45000|\n",
            "| 11|  mahesh|    102| 12000|\n",
            "| 12|    bala|    103| 70000|\n",
            "| 13|    mano|    104| 49000|\n",
            "| 14| abishek|    105| 65000|\n",
            "| 15|  deepak|    106| 35000|\n",
            "+---+--------+-------+------+\n",
            "\n"
          ]
        }
      ]
    },
    {
      "cell_type": "markdown",
      "source": [
        "* duplicate data:"
      ],
      "metadata": {
        "id": "bI61yr1r8QNa"
      }
    },
    {
      "cell_type": "code",
      "source": [
        "data9 = [(10,\"arun\",101,45000),(11,\"mahesh\",102,12000),(12,\"bala\",103,70000),(13,\"mano\",104,49000),(14,\"abishek\",105,65000),(15,\"deepak\",106,35000)]\n",
        "data10 = [(16,\"rohan\",102,5000),(17,\"suresh\",105,5000),(18,\"prakash\",103,5000),(19,\"surender\",106,5000),(14,\"abishek\",105,65000)]\n",
        "col=[\"id\",\"name\",\"dept_id\",\"salary\"]\n",
        "\n",
        "df_emp1= spark.createDataFrame(data= data9,schema=col)\n",
        "df_emp1.printSchema()\n",
        "df_emp1.show()\n",
        "\n",
        "df_emp2= spark.createDataFrame(data= data10,schema=col)\n",
        "df_emp2.printSchema()\n",
        "df_emp2.show()"
      ],
      "metadata": {
        "colab": {
          "base_uri": "https://localhost:8080/"
        },
        "id": "op1rtNZ960n9",
        "outputId": "29f7f029-39d1-4d99-c4a7-6612807d8a0a"
      },
      "execution_count": null,
      "outputs": [
        {
          "output_type": "stream",
          "name": "stdout",
          "text": [
            "root\n",
            " |-- id: long (nullable = true)\n",
            " |-- name: string (nullable = true)\n",
            " |-- dept_id: long (nullable = true)\n",
            " |-- salary: long (nullable = true)\n",
            "\n",
            "+---+-------+-------+------+\n",
            "| id|   name|dept_id|salary|\n",
            "+---+-------+-------+------+\n",
            "| 10|   arun|    101| 45000|\n",
            "| 11| mahesh|    102| 12000|\n",
            "| 12|   bala|    103| 70000|\n",
            "| 13|   mano|    104| 49000|\n",
            "| 14|abishek|    105| 65000|\n",
            "| 15| deepak|    106| 35000|\n",
            "+---+-------+-------+------+\n",
            "\n",
            "root\n",
            " |-- id: long (nullable = true)\n",
            " |-- name: string (nullable = true)\n",
            " |-- dept_id: long (nullable = true)\n",
            " |-- salary: long (nullable = true)\n",
            "\n",
            "+---+--------+-------+------+\n",
            "| id|    name|dept_id|salary|\n",
            "+---+--------+-------+------+\n",
            "| 16|   rohan|    102|  5000|\n",
            "| 17|  suresh|    105|  5000|\n",
            "| 18| prakash|    103|  5000|\n",
            "| 19|surender|    106|  5000|\n",
            "| 14| abishek|    105| 65000|\n",
            "+---+--------+-------+------+\n",
            "\n"
          ]
        }
      ]
    },
    {
      "cell_type": "code",
      "source": [
        "df_emp_new1 = df_emp1.union(df_emp2)\n",
        "df_emp_new1.show()"
      ],
      "metadata": {
        "colab": {
          "base_uri": "https://localhost:8080/"
        },
        "id": "y6Ren7z18ck-",
        "outputId": "071c713a-71bd-4643-8a63-49a94093f928"
      },
      "execution_count": null,
      "outputs": [
        {
          "output_type": "stream",
          "name": "stdout",
          "text": [
            "+---+--------+-------+------+\n",
            "| id|    name|dept_id|salary|\n",
            "+---+--------+-------+------+\n",
            "| 10|    arun|    101| 45000|\n",
            "| 11|  mahesh|    102| 12000|\n",
            "| 12|    bala|    103| 70000|\n",
            "| 13|    mano|    104| 49000|\n",
            "| 14| abishek|    105| 65000|\n",
            "| 15|  deepak|    106| 35000|\n",
            "| 16|   rohan|    102|  5000|\n",
            "| 17|  suresh|    105|  5000|\n",
            "| 18| prakash|    103|  5000|\n",
            "| 19|surender|    106|  5000|\n",
            "| 14| abishek|    105| 65000|\n",
            "+---+--------+-------+------+\n",
            "\n"
          ]
        }
      ]
    },
    {
      "cell_type": "markdown",
      "source": [
        "* to remove duplicates:"
      ],
      "metadata": {
        "id": "xr1G5hQQ8uAm"
      }
    },
    {
      "cell_type": "code",
      "source": [
        "df_emp_new1 = df_emp1.union(df_emp2).distinct()\n",
        "df_emp_new1.show()"
      ],
      "metadata": {
        "colab": {
          "base_uri": "https://localhost:8080/"
        },
        "id": "q0_CUEBF8coV",
        "outputId": "4df6688c-06ce-49df-dd4c-fa20cecdd609"
      },
      "execution_count": null,
      "outputs": [
        {
          "output_type": "stream",
          "name": "stdout",
          "text": [
            "+---+--------+-------+------+\n",
            "| id|    name|dept_id|salary|\n",
            "+---+--------+-------+------+\n",
            "| 10|    arun|    101| 45000|\n",
            "| 11|  mahesh|    102| 12000|\n",
            "| 12|    bala|    103| 70000|\n",
            "| 13|    mano|    104| 49000|\n",
            "| 14| abishek|    105| 65000|\n",
            "| 15|  deepak|    106| 35000|\n",
            "| 17|  suresh|    105|  5000|\n",
            "| 16|   rohan|    102|  5000|\n",
            "| 19|surender|    106|  5000|\n",
            "| 18| prakash|    103|  5000|\n",
            "+---+--------+-------+------+\n",
            "\n"
          ]
        }
      ]
    },
    {
      "cell_type": "code",
      "source": [
        "df = spark.read.option(\"header\",True).csv(\"/content/SAMPLE.csv\")\n",
        "df.show()"
      ],
      "metadata": {
        "colab": {
          "base_uri": "https://localhost:8080/"
        },
        "id": "et2MPE2Agosb",
        "outputId": "8cb2795e-bebe-4e87-a0aa-563638385d43"
      },
      "execution_count": null,
      "outputs": [
        {
          "output_type": "stream",
          "name": "stdout",
          "text": [
            "+-----+----+-------------------+-----+----+-------+-----+\n",
            "|sl No|name|            college|  hsc|SSLC|arrears|cmark|\n",
            "+-----+----+-------------------+-----+----+-------+-----+\n",
            "|    1|  A1|               IITM| 89.9|92.6|      0|   95|\n",
            "|    2|  A2|    ANNA UNIVERSITY| 76.8|77.9|   null|   89|\n",
            "|    3|  A3|    ANNA UNIVERSITY|88.39|85.6|      6|   99|\n",
            "|    4|  A4|ANAMALAI UNIVERSITY| 92.5|94.6|      1|   76|\n",
            "|    5|  A5|               null| 79.3|  65|      2|   89|\n",
            "|    6|  A6|                SRM| null|88.1|      0| 89.6|\n",
            "|    7|  A7|           SAVEETHA| 91.8|null|      7| 78.3|\n",
            "|    8|  A8|               null| 99.8|65.8|      6| 77.5|\n",
            "| null|null|               null| null|null|   null| null|\n",
            "|    9|  A9|ANAMALAI UNIVERSITY| 98.7|  91|      2|   76|\n",
            "|   10|  AD|             fogjof|   56|   9|     78|    2|\n",
            "|   11| A10|               IITM|   94|77.6|      1|   75|\n",
            "|   12| A11|               IITK| 88.2|75.9|      2|   72|\n",
            "|   13| A12|               null| 78.9|84.9|      3|   83|\n",
            "|   14| A13|                SRM| 86.9|  97|      4|   92|\n",
            "+-----+----+-------------------+-----+----+-------+-----+\n",
            "\n"
          ]
        }
      ]
    },
    {
      "cell_type": "code",
      "source": [
        "df.fillna(value=23,subset=[\"arrears\"]).show()"
      ],
      "metadata": {
        "colab": {
          "base_uri": "https://localhost:8080/"
        },
        "id": "mKdbGn6rgo3l",
        "outputId": "1ee14054-c9d0-4bbb-b375-36d828c8d753"
      },
      "execution_count": null,
      "outputs": [
        {
          "output_type": "stream",
          "name": "stdout",
          "text": [
            "+-----+----+-------------------+-----+----+-------+-----+\n",
            "|sl No|name|            college|  hsc|SSLC|arrears|cmark|\n",
            "+-----+----+-------------------+-----+----+-------+-----+\n",
            "|    1|  A1|               IITM| 89.9|92.6|      0|   95|\n",
            "|    2|  A2|    ANNA UNIVERSITY| 76.8|77.9|   null|   89|\n",
            "|    3|  A3|    ANNA UNIVERSITY|88.39|85.6|      6|   99|\n",
            "|    4|  A4|ANAMALAI UNIVERSITY| 92.5|94.6|      1|   76|\n",
            "|    5|  A5|               null| 79.3|  65|      2|   89|\n",
            "|    6|  A6|                SRM| null|88.1|      0| 89.6|\n",
            "|    7|  A7|           SAVEETHA| 91.8|null|      7| 78.3|\n",
            "|    8|  A8|               null| 99.8|65.8|      6| 77.5|\n",
            "| null|null|               null| null|null|   null| null|\n",
            "|    9|  A9|ANAMALAI UNIVERSITY| 98.7|  91|      2|   76|\n",
            "|   10|  AD|             fogjof|   56|   9|     78|    2|\n",
            "|   11| A10|               IITM|   94|77.6|      1|   75|\n",
            "|   12| A11|               IITK| 88.2|75.9|      2|   72|\n",
            "|   13| A12|               null| 78.9|84.9|      3|   83|\n",
            "|   14| A13|                SRM| 86.9|  97|      4|   92|\n",
            "+-----+----+-------------------+-----+----+-------+-----+\n",
            "\n"
          ]
        }
      ]
    },
    {
      "cell_type": "code",
      "source": [
        "df.na(50).show()"
      ],
      "metadata": {
        "id": "aq4ZabKXolJv"
      },
      "execution_count": null,
      "outputs": []
    },
    {
      "cell_type": "code",
      "source": [
        "df['arrears'].fillna(value=23).show()"
      ],
      "metadata": {
        "id": "AjjHKt9zolMF"
      },
      "execution_count": null,
      "outputs": []
    },
    {
      "cell_type": "code",
      "source": [
        "df.na.fill(value='30').show()"
      ],
      "metadata": {
        "colab": {
          "base_uri": "https://localhost:8080/"
        },
        "id": "Khqt5lecolR4",
        "outputId": "bee17d20-726b-4b3e-ebc5-efe5c7713a85"
      },
      "execution_count": null,
      "outputs": [
        {
          "output_type": "stream",
          "name": "stdout",
          "text": [
            "+-----+----+-------------------+-----+----+-------+-----+\n",
            "|sl No|name|            college|  hsc|SSLC|arrears|cmark|\n",
            "+-----+----+-------------------+-----+----+-------+-----+\n",
            "|    1|  A1|               IITM| 89.9|92.6|      0|   95|\n",
            "|    2|  A2|    ANNA UNIVERSITY| 76.8|77.9|     30|   89|\n",
            "|    3|  A3|    ANNA UNIVERSITY|88.39|85.6|      6|   99|\n",
            "|    4|  A4|ANAMALAI UNIVERSITY| 92.5|94.6|      1|   76|\n",
            "|    5|  A5|                 30| 79.3|  65|      2|   89|\n",
            "|    6|  A6|                SRM|   30|88.1|      0| 89.6|\n",
            "|    7|  A7|           SAVEETHA| 91.8|  30|      7| 78.3|\n",
            "|    8|  A8|                 30| 99.8|65.8|      6| 77.5|\n",
            "|   30|  30|                 30|   30|  30|     30|   30|\n",
            "|    9|  A9|ANAMALAI UNIVERSITY| 98.7|  91|      2|   76|\n",
            "|   10|  AD|             fogjof|   56|   9|     78|    2|\n",
            "|   11| A10|               IITM|   94|77.6|      1|   75|\n",
            "|   12| A11|               IITK| 88.2|75.9|      2|   72|\n",
            "|   13| A12|                 30| 78.9|84.9|      3|   83|\n",
            "|   14| A13|                SRM| 86.9|  97|      4|   92|\n",
            "+-----+----+-------------------+-----+----+-------+-----+\n",
            "\n"
          ]
        }
      ]
    },
    {
      "cell_type": "code",
      "source": [
        "df.printSchema()"
      ],
      "metadata": {
        "colab": {
          "base_uri": "https://localhost:8080/"
        },
        "id": "iiTbex3ColT9",
        "outputId": "af8a17de-e96a-46af-fdfb-030d226f5d34"
      },
      "execution_count": null,
      "outputs": [
        {
          "output_type": "stream",
          "name": "stdout",
          "text": [
            "root\n",
            " |-- sl No: string (nullable = true)\n",
            " |-- name: string (nullable = true)\n",
            " |-- college: string (nullable = true)\n",
            " |-- hsc: string (nullable = true)\n",
            " |-- SSLC: string (nullable = true)\n",
            " |-- arrears: string (nullable = true)\n",
            " |-- cmark: string (nullable = true)\n",
            "\n"
          ]
        }
      ]
    },
    {
      "cell_type": "markdown",
      "source": [
        "# Sorting:"
      ],
      "metadata": {
        "id": "oXu9LeTCfcVU"
      }
    },
    {
      "cell_type": "code",
      "source": [
        "data9 = [(10,\"arun\",101,45000),(11,\"mahesh\",102,12000),(12,\"bala\",103,70000),(13,\"\",104,49000),(14,\"abishek\",105,65000),(15,\"deepak\",106,35000),(16,\"rohan\",102,5000),(17,\"suresh\",105,5000),(18,\"prakash\",103,5000),(19,\"surender\",106,5000),(14,\"abishek\",105,65000)]\n",
        "col=[\"id\",\"name\",\"dept_id\",\"salary\"]\n",
        "\n",
        "df_emp1= spark.createDataFrame(data= data9,schema=col)\n",
        "df_emp1.printSchema()\n",
        "df_emp1.show()\n"
      ],
      "metadata": {
        "colab": {
          "base_uri": "https://localhost:8080/"
        },
        "id": "WCEM5SOsolOn",
        "outputId": "0f7c8aa3-9341-40de-b11f-b8d069b3e86a"
      },
      "execution_count": null,
      "outputs": [
        {
          "output_type": "stream",
          "name": "stdout",
          "text": [
            "root\n",
            " |-- id: long (nullable = true)\n",
            " |-- name: string (nullable = true)\n",
            " |-- dept_id: long (nullable = true)\n",
            " |-- salary: long (nullable = true)\n",
            "\n",
            "+---+--------+-------+------+\n",
            "| id|    name|dept_id|salary|\n",
            "+---+--------+-------+------+\n",
            "| 10|    arun|    101| 45000|\n",
            "| 11|  mahesh|    102| 12000|\n",
            "| 12|    bala|    103| 70000|\n",
            "| 13|        |    104| 49000|\n",
            "| 14| abishek|    105| 65000|\n",
            "| 15|  deepak|    106| 35000|\n",
            "| 16|   rohan|    102|  5000|\n",
            "| 17|  suresh|    105|  5000|\n",
            "| 18| prakash|    103|  5000|\n",
            "| 19|surender|    106|  5000|\n",
            "| 14| abishek|    105| 65000|\n",
            "+---+--------+-------+------+\n",
            "\n"
          ]
        }
      ]
    },
    {
      "cell_type": "code",
      "source": [
        "df_emp1.sort('name').show()  # sorting 1st way"
      ],
      "metadata": {
        "colab": {
          "base_uri": "https://localhost:8080/"
        },
        "id": "2FMF1Tssqawp",
        "outputId": "eefd252d-45b6-4b39-bbee-c80ae87bc173"
      },
      "execution_count": null,
      "outputs": [
        {
          "output_type": "stream",
          "name": "stdout",
          "text": [
            "+---+--------+-------+------+\n",
            "| id|    name|dept_id|salary|\n",
            "+---+--------+-------+------+\n",
            "| 13|        |    104| 49000|\n",
            "| 14| abishek|    105| 65000|\n",
            "| 14| abishek|    105| 65000|\n",
            "| 10|    arun|    101| 45000|\n",
            "| 12|    bala|    103| 70000|\n",
            "| 15|  deepak|    106| 35000|\n",
            "| 11|  mahesh|    102| 12000|\n",
            "| 18| prakash|    103|  5000|\n",
            "| 16|   rohan|    102|  5000|\n",
            "| 19|surender|    106|  5000|\n",
            "| 17|  suresh|    105|  5000|\n",
            "+---+--------+-------+------+\n",
            "\n"
          ]
        }
      ]
    },
    {
      "cell_type": "code",
      "source": [
        "df_emp1.sort(df_emp1.name.asc()).show()   # sorting 2nd way"
      ],
      "metadata": {
        "colab": {
          "base_uri": "https://localhost:8080/"
        },
        "id": "mmJdX1d2qazd",
        "outputId": "2dde4a2a-cb79-454f-caa0-14be88b1cebb"
      },
      "execution_count": null,
      "outputs": [
        {
          "output_type": "stream",
          "name": "stdout",
          "text": [
            "+---+--------+-------+------+\n",
            "| id|    name|dept_id|salary|\n",
            "+---+--------+-------+------+\n",
            "| 13|        |    104| 49000|\n",
            "| 14| abishek|    105| 65000|\n",
            "| 14| abishek|    105| 65000|\n",
            "| 10|    arun|    101| 45000|\n",
            "| 12|    bala|    103| 70000|\n",
            "| 15|  deepak|    106| 35000|\n",
            "| 11|  mahesh|    102| 12000|\n",
            "| 18| prakash|    103|  5000|\n",
            "| 16|   rohan|    102|  5000|\n",
            "| 19|surender|    106|  5000|\n",
            "| 17|  suresh|    105|  5000|\n",
            "+---+--------+-------+------+\n",
            "\n"
          ]
        }
      ]
    },
    {
      "cell_type": "code",
      "source": [
        "df_emp1.sort(df_emp1.name.desc()).show()"
      ],
      "metadata": {
        "colab": {
          "base_uri": "https://localhost:8080/"
        },
        "id": "KgulwI8Oqa23",
        "outputId": "8ed43f1d-17b6-4338-8866-1ce38e6f662d"
      },
      "execution_count": null,
      "outputs": [
        {
          "output_type": "stream",
          "name": "stdout",
          "text": [
            "+---+--------+-------+------+\n",
            "| id|    name|dept_id|salary|\n",
            "+---+--------+-------+------+\n",
            "| 17|  suresh|    105|  5000|\n",
            "| 19|surender|    106|  5000|\n",
            "| 16|   rohan|    102|  5000|\n",
            "| 18| prakash|    103|  5000|\n",
            "| 11|  mahesh|    102| 12000|\n",
            "| 15|  deepak|    106| 35000|\n",
            "| 12|    bala|    103| 70000|\n",
            "| 10|    arun|    101| 45000|\n",
            "| 14| abishek|    105| 65000|\n",
            "| 14| abishek|    105| 65000|\n",
            "| 13|        |    104| 49000|\n",
            "+---+--------+-------+------+\n",
            "\n"
          ]
        }
      ]
    },
    {
      "cell_type": "code",
      "source": [
        "from pyspark.sql.functions import col"
      ],
      "metadata": {
        "id": "RBXI_ZtZr-M8"
      },
      "execution_count": null,
      "outputs": []
    },
    {
      "cell_type": "code",
      "source": [
        "df_emp1.sort(col(\"name\").asc()).show()    # sorting 3rd way"
      ],
      "metadata": {
        "colab": {
          "base_uri": "https://localhost:8080/"
        },
        "id": "1-Drny5Jr-QI",
        "outputId": "ef34603e-9f9d-42a4-bd7e-ad5b91078e89"
      },
      "execution_count": null,
      "outputs": [
        {
          "output_type": "stream",
          "name": "stdout",
          "text": [
            "+---+--------+-------+------+\n",
            "| id|    name|dept_id|salary|\n",
            "+---+--------+-------+------+\n",
            "| 13|        |    104| 49000|\n",
            "| 14| abishek|    105| 65000|\n",
            "| 14| abishek|    105| 65000|\n",
            "| 10|    arun|    101| 45000|\n",
            "| 12|    bala|    103| 70000|\n",
            "| 15|  deepak|    106| 35000|\n",
            "| 11|  mahesh|    102| 12000|\n",
            "| 18| prakash|    103|  5000|\n",
            "| 16|   rohan|    102|  5000|\n",
            "| 19|surender|    106|  5000|\n",
            "| 17|  suresh|    105|  5000|\n",
            "+---+--------+-------+------+\n",
            "\n"
          ]
        }
      ]
    },
    {
      "cell_type": "code",
      "source": [
        "df_emp1.sort(col(\"salary\").asc() , col(\"dept_id\").desc()).show()  # 1st column 1st priority"
      ],
      "metadata": {
        "colab": {
          "base_uri": "https://localhost:8080/"
        },
        "id": "g7zNbZRlr-Te",
        "outputId": "4577169a-b7ea-46e1-f238-e4d8bbe09d8c"
      },
      "execution_count": null,
      "outputs": [
        {
          "output_type": "stream",
          "name": "stdout",
          "text": [
            "+---+--------+-------+------+\n",
            "| id|    name|dept_id|salary|\n",
            "+---+--------+-------+------+\n",
            "| 19|surender|    106|  5000|\n",
            "| 17|  suresh|    105|  5000|\n",
            "| 18| prakash|    103|  5000|\n",
            "| 16|   rohan|    102|  5000|\n",
            "| 11|  mahesh|    102| 12000|\n",
            "| 15|  deepak|    106| 35000|\n",
            "| 10|    arun|    101| 45000|\n",
            "| 13|        |    104| 49000|\n",
            "| 14| abishek|    105| 65000|\n",
            "| 14| abishek|    105| 65000|\n",
            "| 12|    bala|    103| 70000|\n",
            "+---+--------+-------+------+\n",
            "\n"
          ]
        }
      ]
    },
    {
      "cell_type": "code",
      "source": [
        "df_emp1.orderBy(col(\"salary\").asc()).show()  # sorting 4th way"
      ],
      "metadata": {
        "colab": {
          "base_uri": "https://localhost:8080/"
        },
        "id": "sox99R84tD2x",
        "outputId": "fa98149f-6363-44ce-e88d-7e0acec6ed2c"
      },
      "execution_count": null,
      "outputs": [
        {
          "output_type": "stream",
          "name": "stdout",
          "text": [
            "+---+--------+-------+------+\n",
            "| id|    name|dept_id|salary|\n",
            "+---+--------+-------+------+\n",
            "| 16|   rohan|    102|  5000|\n",
            "| 19|surender|    106|  5000|\n",
            "| 17|  suresh|    105|  5000|\n",
            "| 18| prakash|    103|  5000|\n",
            "| 11|  mahesh|    102| 12000|\n",
            "| 15|  deepak|    106| 35000|\n",
            "| 10|    arun|    101| 45000|\n",
            "| 13|        |    104| 49000|\n",
            "| 14| abishek|    105| 65000|\n",
            "| 14| abishek|    105| 65000|\n",
            "| 12|    bala|    103| 70000|\n",
            "+---+--------+-------+------+\n",
            "\n"
          ]
        }
      ]
    },
    {
      "cell_type": "code",
      "source": [
        "df_emp1.groupBy(\"dept_id\").sum((\"salary\")).show()     # avg / mean"
      ],
      "metadata": {
        "colab": {
          "base_uri": "https://localhost:8080/"
        },
        "id": "wThwbHSpvdQp",
        "outputId": "97457b25-4f31-4a87-8eb3-0321b290c039"
      },
      "execution_count": null,
      "outputs": [
        {
          "output_type": "stream",
          "name": "stdout",
          "text": [
            "+-------+-----------+\n",
            "|dept_id|sum(salary)|\n",
            "+-------+-----------+\n",
            "|    103|      75000|\n",
            "|    104|      49000|\n",
            "|    105|     135000|\n",
            "|    101|      45000|\n",
            "|    102|      17000|\n",
            "|    106|      40000|\n",
            "+-------+-----------+\n",
            "\n"
          ]
        }
      ]
    },
    {
      "cell_type": "code",
      "source": [
        "df_emp1.show()"
      ],
      "metadata": {
        "colab": {
          "base_uri": "https://localhost:8080/"
        },
        "id": "aKHPfb6xwKip",
        "outputId": "63d83a96-2511-4a0c-f302-30350746a69f"
      },
      "execution_count": null,
      "outputs": [
        {
          "output_type": "stream",
          "name": "stdout",
          "text": [
            "+---+--------+-------+------+\n",
            "| id|    name|dept_id|salary|\n",
            "+---+--------+-------+------+\n",
            "| 10|    arun|    101| 45000|\n",
            "| 11|  mahesh|    102| 12000|\n",
            "| 12|    bala|    103| 70000|\n",
            "| 13|        |    104| 49000|\n",
            "| 14| abishek|    105| 65000|\n",
            "| 15|  deepak|    106| 35000|\n",
            "| 16|   rohan|    102|  5000|\n",
            "| 17|  suresh|    105|  5000|\n",
            "| 18| prakash|    103|  5000|\n",
            "| 19|surender|    106|  5000|\n",
            "| 14| abishek|    105| 65000|\n",
            "+---+--------+-------+------+\n",
            "\n"
          ]
        }
      ]
    },
    {
      "cell_type": "code",
      "source": [
        "df_emp1.groupBy(\"dept_id\").min((\"salary\")).show()     "
      ],
      "metadata": {
        "colab": {
          "base_uri": "https://localhost:8080/"
        },
        "id": "eAbdHqduvdTi",
        "outputId": "73f72e31-60f7-4187-ba0d-8bc6c39f74be"
      },
      "execution_count": null,
      "outputs": [
        {
          "output_type": "stream",
          "name": "stdout",
          "text": [
            "+-------+-----------+\n",
            "|dept_id|min(salary)|\n",
            "+-------+-----------+\n",
            "|    103|       5000|\n",
            "|    104|      49000|\n",
            "|    105|       5000|\n",
            "|    101|      45000|\n",
            "|    102|       5000|\n",
            "|    106|       5000|\n",
            "+-------+-----------+\n",
            "\n"
          ]
        }
      ]
    },
    {
      "cell_type": "code",
      "source": [
        "df_emp1.groupBy(\"dept_id\").max((\"salary\")).show() "
      ],
      "metadata": {
        "colab": {
          "base_uri": "https://localhost:8080/"
        },
        "id": "NDfFupupxVFg",
        "outputId": "2f0dd77f-83d2-47c0-95c4-81be4216a409"
      },
      "execution_count": null,
      "outputs": [
        {
          "output_type": "stream",
          "name": "stdout",
          "text": [
            "+-------+-----------+\n",
            "|dept_id|max(salary)|\n",
            "+-------+-----------+\n",
            "|    103|      70000|\n",
            "|    104|      49000|\n",
            "|    105|      65000|\n",
            "|    101|      45000|\n",
            "|    102|      12000|\n",
            "|    106|      35000|\n",
            "+-------+-----------+\n",
            "\n"
          ]
        }
      ]
    },
    {
      "cell_type": "code",
      "source": [
        "df_emp1.groupBy(\"dept_id\").count().show()   # count"
      ],
      "metadata": {
        "colab": {
          "base_uri": "https://localhost:8080/"
        },
        "id": "_OZgw4uqvdXE",
        "outputId": "c68206d7-e5a4-4881-99b3-25d33cbf63bf"
      },
      "execution_count": null,
      "outputs": [
        {
          "output_type": "stream",
          "name": "stdout",
          "text": [
            "+-------+-----+\n",
            "|dept_id|count|\n",
            "+-------+-----+\n",
            "|    103|    2|\n",
            "|    104|    1|\n",
            "|    105|    3|\n",
            "|    101|    1|\n",
            "|    102|    2|\n",
            "|    106|    2|\n",
            "+-------+-----+\n",
            "\n"
          ]
        }
      ]
    },
    {
      "cell_type": "code",
      "source": [
        "df_emp1.groupBy(\"dept_id\").sum((\"salary\")).count().show() "
      ],
      "metadata": {
        "id": "NHyhjoijw052"
      },
      "execution_count": null,
      "outputs": []
    },
    {
      "cell_type": "code",
      "source": [
        "df_emp1.groupBy(\"dept_id\").pivot(\"dept_id\").sum((\"salary\")).show()"
      ],
      "metadata": {
        "colab": {
          "base_uri": "https://localhost:8080/"
        },
        "id": "qL60w7Zew08L",
        "outputId": "8e75646d-dae5-434a-aaff-018fa7a1e6af"
      },
      "execution_count": null,
      "outputs": [
        {
          "output_type": "stream",
          "name": "stdout",
          "text": [
            "+-------+-----+-----+-----+-----+------+-----+\n",
            "|dept_id|  101|  102|  103|  104|   105|  106|\n",
            "+-------+-----+-----+-----+-----+------+-----+\n",
            "|    103| null| null|75000| null|  null| null|\n",
            "|    104| null| null| null|49000|  null| null|\n",
            "|    105| null| null| null| null|135000| null|\n",
            "|    101|45000| null| null| null|  null| null|\n",
            "|    102| null|17000| null| null|  null| null|\n",
            "|    106| null| null| null| null|  null|40000|\n",
            "+-------+-----+-----+-----+-----+------+-----+\n",
            "\n"
          ]
        }
      ]
    },
    {
      "cell_type": "markdown",
      "source": [
        "# SQL operations in pyspark:"
      ],
      "metadata": {
        "id": "wf83aJ9mf3lc"
      }
    },
    {
      "cell_type": "markdown",
      "source": [
        "* we are running sql operation inside the dataframe:"
      ],
      "metadata": {
        "id": "OK-syCXZWFmP"
      }
    },
    {
      "cell_type": "code",
      "source": [
        "df_emp1.createOrReplaceTempView(\"emp\")  # converting dataframe into sql_view table  # 'emp' is table name\n",
        "spark.sql(\"select * from emp\").show()     # select * : to select all columns"
      ],
      "metadata": {
        "colab": {
          "base_uri": "https://localhost:8080/"
        },
        "id": "b8pUFS8dtD6W",
        "outputId": "c5ddf190-adc0-4e34-d131-f4b7a358f4e1"
      },
      "execution_count": null,
      "outputs": [
        {
          "output_type": "stream",
          "name": "stdout",
          "text": [
            "+---+--------+-------+------+\n",
            "| id|    name|dept_id|salary|\n",
            "+---+--------+-------+------+\n",
            "| 10|    arun|    101| 45000|\n",
            "| 11|  mahesh|    102| 12000|\n",
            "| 12|    bala|    103| 70000|\n",
            "| 13|        |    104| 49000|\n",
            "| 14| abishek|    105| 65000|\n",
            "| 15|  deepak|    106| 35000|\n",
            "| 16|   rohan|    102|  5000|\n",
            "| 17|  suresh|    105|  5000|\n",
            "| 18| prakash|    103|  5000|\n",
            "| 19|surender|    106|  5000|\n",
            "| 14| abishek|    105| 65000|\n",
            "+---+--------+-------+------+\n",
            "\n"
          ]
        }
      ]
    },
    {
      "cell_type": "code",
      "source": [
        "df_emp1.createOrReplaceTempView(\"emp\")  \n",
        "spark.sql(\"select * from emp order by name asc\").show()   # sorting"
      ],
      "metadata": {
        "colab": {
          "base_uri": "https://localhost:8080/"
        },
        "id": "W91V8eGXtECr",
        "outputId": "4a980935-68e1-4817-95b2-9e5f2be30490"
      },
      "execution_count": null,
      "outputs": [
        {
          "output_type": "stream",
          "name": "stdout",
          "text": [
            "+---+--------+-------+------+\n",
            "| id|    name|dept_id|salary|\n",
            "+---+--------+-------+------+\n",
            "| 13|        |    104| 49000|\n",
            "| 14| abishek|    105| 65000|\n",
            "| 14| abishek|    105| 65000|\n",
            "| 10|    arun|    101| 45000|\n",
            "| 12|    bala|    103| 70000|\n",
            "| 15|  deepak|    106| 35000|\n",
            "| 11|  mahesh|    102| 12000|\n",
            "| 18| prakash|    103|  5000|\n",
            "| 16|   rohan|    102|  5000|\n",
            "| 19|surender|    106|  5000|\n",
            "| 17|  suresh|    105|  5000|\n",
            "+---+--------+-------+------+\n",
            "\n"
          ]
        }
      ]
    },
    {
      "cell_type": "code",
      "source": [
        "df_emp1.createOrReplaceTempView(\"emp\")  \n",
        "spark.sql(\"select id,name from emp order by name asc\").show()   # selecting only particular column + sorting"
      ],
      "metadata": {
        "colab": {
          "base_uri": "https://localhost:8080/"
        },
        "id": "8j2p23rnvFHc",
        "outputId": "972fe698-cf58-4418-a9dc-05db6e9de091"
      },
      "execution_count": null,
      "outputs": [
        {
          "output_type": "stream",
          "name": "stdout",
          "text": [
            "+---+--------+\n",
            "| id|    name|\n",
            "+---+--------+\n",
            "| 13|        |\n",
            "| 14| abishek|\n",
            "| 14| abishek|\n",
            "| 10|    arun|\n",
            "| 12|    bala|\n",
            "| 15|  deepak|\n",
            "| 11|  mahesh|\n",
            "| 18| prakash|\n",
            "| 16|   rohan|\n",
            "| 19|surender|\n",
            "| 17|  suresh|\n",
            "+---+--------+\n",
            "\n"
          ]
        }
      ]
    },
    {
      "cell_type": "markdown",
      "source": [
        "* row-wise filteration: where clause\n",
        "* column-wise filteration: select *"
      ],
      "metadata": {
        "id": "g0213WtzoEjP"
      }
    },
    {
      "cell_type": "code",
      "source": [
        "spark.sql(\"select * from emp where salary > 12000\").show()"
      ],
      "metadata": {
        "colab": {
          "base_uri": "https://localhost:8080/"
        },
        "id": "YnJnT6RzvFLf",
        "outputId": "1892be4a-6993-4609-f88b-22a8716f25c1"
      },
      "execution_count": null,
      "outputs": [
        {
          "output_type": "stream",
          "name": "stdout",
          "text": [
            "+---+-------+-------+------+\n",
            "| id|   name|dept_id|salary|\n",
            "+---+-------+-------+------+\n",
            "| 10|   arun|    101| 45000|\n",
            "| 12|   bala|    103| 70000|\n",
            "| 13|       |    104| 49000|\n",
            "| 14|abishek|    105| 65000|\n",
            "| 15| deepak|    106| 35000|\n",
            "| 14|abishek|    105| 65000|\n",
            "+---+-------+-------+------+\n",
            "\n"
          ]
        }
      ]
    },
    {
      "cell_type": "code",
      "source": [
        "# df_emp1.join(df_dept,  df_emp1.dept_id == df_dept.dept_id, \"outer\").show()"
      ],
      "metadata": {
        "id": "fNhTUhafw0_p"
      },
      "execution_count": null,
      "outputs": []
    },
    {
      "cell_type": "markdown",
      "source": [
        "* mapping from pyspark perspective\n",
        "* mapping is same as dictionary"
      ],
      "metadata": {
        "id": "EmlvtvTEgDHc"
      }
    },
    {
      "cell_type": "code",
      "source": [
        "from pyspark.sql.types import *\n",
        "\n",
        "data_dict = [(\"arun\",{\"age\":20,\"gender\":\"male\"}),(\"bala\",{\"age\":30,\"gender\":\"male\"})]\n",
        "schema_dict = StructType(\n",
        "                        [StructField(\"name\",StringType(),True),\n",
        "                         StructField(\"personal\",MapType(StringType(),StringType()),True )]\n",
        "                         )\n",
        "df = spark.createDataFrame(data=data_dict,schema=schema_dict)\n",
        "df.printSchema()\n",
        "df.show(truncate=False)"
      ],
      "metadata": {
        "colab": {
          "base_uri": "https://localhost:8080/"
        },
        "id": "wuxIOlUDyxRv",
        "outputId": "d93e406d-b6d7-4a95-e789-27110d3f7ce3"
      },
      "execution_count": null,
      "outputs": [
        {
          "output_type": "stream",
          "name": "stdout",
          "text": [
            "root\n",
            " |-- name: string (nullable = true)\n",
            " |-- personal: map (nullable = true)\n",
            " |    |-- key: string\n",
            " |    |-- value: string (valueContainsNull = true)\n",
            "\n",
            "+----+---------------------------+\n",
            "|name|personal                   |\n",
            "+----+---------------------------+\n",
            "|arun|{gender -> male, age -> 20}|\n",
            "|bala|{gender -> male, age -> 30}|\n",
            "+----+---------------------------+\n",
            "\n"
          ]
        }
      ]
    },
    {
      "cell_type": "markdown",
      "source": [
        "* without StuctType, StructField:"
      ],
      "metadata": {
        "id": "RJfQflr9gMXv"
      }
    },
    {
      "cell_type": "code",
      "source": [
        "data_dict = [(\"arun\",{\"age\":20,\"gender\":\"male\"}),(\"bala\",{\"age\":30,\"gender\":\"male\"})]\n",
        "col = ['name','personal']\n",
        "df = spark.createDataFrame(data=data_dict,schema=col)\n",
        "df.printSchema()\n",
        "df.show(truncate=False)"
      ],
      "metadata": {
        "colab": {
          "base_uri": "https://localhost:8080/"
        },
        "id": "4kk1cvvO13AM",
        "outputId": "0854d327-9870-4bf0-8066-5b3d7c100d72"
      },
      "execution_count": null,
      "outputs": [
        {
          "output_type": "stream",
          "name": "stdout",
          "text": [
            "root\n",
            " |-- name: string (nullable = true)\n",
            " |-- personal: map (nullable = true)\n",
            " |    |-- key: string\n",
            " |    |-- value: long (valueContainsNull = true)\n",
            "\n",
            "+----+---------------------------+\n",
            "|name|personal                   |\n",
            "+----+---------------------------+\n",
            "|arun|{gender -> null, age -> 20}|\n",
            "|bala|{gender -> null, age -> 30}|\n",
            "+----+---------------------------+\n",
            "\n"
          ]
        }
      ]
    },
    {
      "cell_type": "code",
      "source": [
        "data_dict = [(\"arun\",{\"gender\":\"male\",\"age\":20}),(\"bala\",{\"gender\":\"male\",\"age\":30})]\n",
        "col = ['name','personal']\n",
        "df = spark.createDataFrame(data=data_dict,schema=col)\n",
        "df.printSchema()\n",
        "df.show(truncate=False)"
      ],
      "metadata": {
        "colab": {
          "base_uri": "https://localhost:8080/"
        },
        "id": "3tqr3Yr53yq3",
        "outputId": "008fb0c8-69ed-4d16-a13b-0085207ffa9b"
      },
      "execution_count": null,
      "outputs": [
        {
          "output_type": "stream",
          "name": "stdout",
          "text": [
            "root\n",
            " |-- name: string (nullable = true)\n",
            " |-- personal: map (nullable = true)\n",
            " |    |-- key: string\n",
            " |    |-- value: string (valueContainsNull = true)\n",
            "\n",
            "+----+---------------------------+\n",
            "|name|personal                   |\n",
            "+----+---------------------------+\n",
            "|arun|{gender -> male, age -> 20}|\n",
            "|bala|{gender -> male, age -> 30}|\n",
            "+----+---------------------------+\n",
            "\n"
          ]
        }
      ]
    },
    {
      "cell_type": "markdown",
      "source": [
        "* 3 features:"
      ],
      "metadata": {
        "id": "x4jPAy74gWeK"
      }
    },
    {
      "cell_type": "code",
      "source": [
        "data_dict = [(\"arun\",{\"age\":20},{\"gender\":\"male\"}),(\"bala\",{\"age\":30},{\"gender\":\"male\"})]\n",
        "col = ['name','age_1','gender_1']\n",
        "df = spark.createDataFrame(data=data_dict,schema=col)\n",
        "df.printSchema()\n",
        "df.show(truncate=False)"
      ],
      "metadata": {
        "colab": {
          "base_uri": "https://localhost:8080/"
        },
        "id": "MvjssDWJ3P7N",
        "outputId": "c138961c-cafe-42a0-ceda-876aa718513d"
      },
      "execution_count": null,
      "outputs": [
        {
          "output_type": "stream",
          "name": "stdout",
          "text": [
            "root\n",
            " |-- name: string (nullable = true)\n",
            " |-- age_1: map (nullable = true)\n",
            " |    |-- key: string\n",
            " |    |-- value: long (valueContainsNull = true)\n",
            " |-- gender_1: map (nullable = true)\n",
            " |    |-- key: string\n",
            " |    |-- value: string (valueContainsNull = true)\n",
            "\n",
            "+----+-----------+----------------+\n",
            "|name|age_1      |gender_1        |\n",
            "+----+-----------+----------------+\n",
            "|arun|{age -> 20}|{gender -> male}|\n",
            "|bala|{age -> 30}|{gender -> male}|\n",
            "+----+-----------+----------------+\n",
            "\n"
          ]
        }
      ]
    },
    {
      "cell_type": "code",
      "source": [
        "from pyspark.sql.functions import map_keys, map_values"
      ],
      "metadata": {
        "id": "utodmOVqyxVA"
      },
      "execution_count": null,
      "outputs": []
    },
    {
      "cell_type": "code",
      "source": [
        "df.select(df.name,map_keys(df.age_1),map_values(df.gender_1)).show()  # map_keys fetches only keys  # map_values fetches only values"
      ],
      "metadata": {
        "colab": {
          "base_uri": "https://localhost:8080/"
        },
        "id": "X_n2Zv4n4jIf",
        "outputId": "8a5f8898-a512-4797-d368-65a915ec1bf0"
      },
      "execution_count": null,
      "outputs": [
        {
          "output_type": "stream",
          "name": "stdout",
          "text": [
            "+----+---------------+--------------------+\n",
            "|name|map_keys(age_1)|map_values(gender_1)|\n",
            "+----+---------------+--------------------+\n",
            "|arun|          [age]|              [male]|\n",
            "|bala|          [age]|              [male]|\n",
            "+----+---------------+--------------------+\n",
            "\n"
          ]
        }
      ]
    },
    {
      "cell_type": "markdown",
      "source": [
        "# Json"
      ],
      "metadata": {
        "id": "8Km6Z_WMfDxu"
      }
    },
    {
      "cell_type": "code",
      "source": [
        "dj = spark.read.format('json').load('/content/sample_data/anscombe.json')  \n",
        "dj.show()"
      ],
      "metadata": {
        "colab": {
          "base_uri": "https://localhost:8080/"
        },
        "id": "wdt1uRkT4jNW",
        "outputId": "693bf1aa-caa5-406e-e5d0-9a7ba606f97b"
      },
      "execution_count": null,
      "outputs": [
        {
          "output_type": "stream",
          "name": "stdout",
          "text": [
            "+------+----+-----+---------------+\n",
            "|Series|   X|    Y|_corrupt_record|\n",
            "+------+----+-----+---------------+\n",
            "|  null|null| null|              [|\n",
            "|     I|10.0| 8.04|           null|\n",
            "|     I| 8.0| 6.95|           null|\n",
            "|     I|13.0| 7.58|           null|\n",
            "|     I| 9.0| 8.81|           null|\n",
            "|     I|11.0| 8.33|           null|\n",
            "|     I|14.0| 9.96|           null|\n",
            "|     I| 6.0| 7.24|           null|\n",
            "|     I| 4.0| 4.26|           null|\n",
            "|     I|12.0|10.84|           null|\n",
            "|     I| 7.0| 4.81|           null|\n",
            "|     I| 5.0| 5.68|           null|\n",
            "|    II|10.0| 9.14|           null|\n",
            "|    II| 8.0| 8.14|           null|\n",
            "|    II|13.0| 8.74|           null|\n",
            "|    II| 9.0| 8.77|           null|\n",
            "|    II|11.0| 9.26|           null|\n",
            "|    II|14.0|  8.1|           null|\n",
            "|    II| 6.0| 6.13|           null|\n",
            "|    II| 4.0|  3.1|           null|\n",
            "+------+----+-----+---------------+\n",
            "only showing top 20 rows\n",
            "\n"
          ]
        }
      ]
    },
    {
      "cell_type": "code",
      "source": [
        "dj1 = spark.read.option('multiline',True).json('/content/sample_data/anscombe.json')\n",
        "dj1.show()"
      ],
      "metadata": {
        "colab": {
          "base_uri": "https://localhost:8080/"
        },
        "id": "H3Qdac_w4jQp",
        "outputId": "f5b226ae-e39b-4c9a-ef27-5963d5bf1bec"
      },
      "execution_count": null,
      "outputs": [
        {
          "output_type": "stream",
          "name": "stdout",
          "text": [
            "+------+----+-----+\n",
            "|Series|   X|    Y|\n",
            "+------+----+-----+\n",
            "|     I|10.0| 8.04|\n",
            "|     I| 8.0| 6.95|\n",
            "|     I|13.0| 7.58|\n",
            "|     I| 9.0| 8.81|\n",
            "|     I|11.0| 8.33|\n",
            "|     I|14.0| 9.96|\n",
            "|     I| 6.0| 7.24|\n",
            "|     I| 4.0| 4.26|\n",
            "|     I|12.0|10.84|\n",
            "|     I| 7.0| 4.81|\n",
            "|     I| 5.0| 5.68|\n",
            "|    II|10.0| 9.14|\n",
            "|    II| 8.0| 8.14|\n",
            "|    II|13.0| 8.74|\n",
            "|    II| 9.0| 8.77|\n",
            "|    II|11.0| 9.26|\n",
            "|    II|14.0|  8.1|\n",
            "|    II| 6.0| 6.13|\n",
            "|    II| 4.0|  3.1|\n",
            "|    II|12.0| 9.13|\n",
            "+------+----+-----+\n",
            "only showing top 20 rows\n",
            "\n"
          ]
        }
      ]
    },
    {
      "cell_type": "code",
      "source": [
        "dj1.write.json(\"/content/sample.json\")    # writing a json file"
      ],
      "metadata": {
        "id": "-qUjYFzRyxkk"
      },
      "execution_count": null,
      "outputs": []
    }
  ]
}